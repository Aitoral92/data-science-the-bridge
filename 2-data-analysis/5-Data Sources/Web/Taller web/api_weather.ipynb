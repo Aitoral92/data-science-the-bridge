{
 "cells": [
  {
   "cell_type": "code",
   "execution_count": 40,
   "metadata": {},
   "outputs": [],
   "source": [
    "import requests\n",
    "import pandas as pd\n",
    "import time"
   ]
  },
  {
   "cell_type": "code",
   "execution_count": 41,
   "metadata": {},
   "outputs": [],
   "source": [
    "api_key = \"f275aa333c628e5a702c7d4f1fce6cdb\"\n",
    "\n",
    "cities_dict = {\n",
    "    \"PAT\": [\"Mieres\", \"ES\"],\n",
    "    \"FRAN\": [\"Sevilla\", \"ES\"],\n",
    "    \"AITOR\": [\"Zarautz\", \"ES\"],\n",
    "    \"ISRA\": [\"Barcelona\", \"ES\"],\n",
    "    \"GUS\": [\"Madrid\", \"ES\"]\n",
    "}"
   ]
  },
  {
   "cell_type": "code",
   "execution_count": 50,
   "metadata": {},
   "outputs": [
    {
     "ename": "KeyboardInterrupt",
     "evalue": "",
     "output_type": "error",
     "traceback": [
      "\u001b[0;31m---------------------------------------------------------------------------\u001b[0m",
      "\u001b[0;31mKeyboardInterrupt\u001b[0m                         Traceback (most recent call last)",
      "\u001b[1;32m/home/personal/Repositories/data-science-the-bridge/5-Data Sources/Web/Taller web/api_weather.ipynb Cell 3'\u001b[0m in \u001b[0;36m<cell line: 16>\u001b[0;34m()\u001b[0m\n\u001b[1;32m     <a href='vscode-notebook-cell:/home/personal/Repositories/data-science-the-bridge/5-Data%20Sources/Web/Taller%20web/api_weather.ipynb#ch0000017?line=39'>40</a>\u001b[0m \u001b[39m#print(x)\u001b[39;00m\n\u001b[1;32m     <a href='vscode-notebook-cell:/home/personal/Repositories/data-science-the-bridge/5-Data%20Sources/Web/Taller%20web/api_weather.ipynb#ch0000017?line=40'>41</a>\u001b[0m data_df \u001b[39m=\u001b[39m pd\u001b[39m.\u001b[39mconcat([data_df, x])\n\u001b[0;32m---> <a href='vscode-notebook-cell:/home/personal/Repositories/data-science-the-bridge/5-Data%20Sources/Web/Taller%20web/api_weather.ipynb#ch0000017?line=41'>42</a>\u001b[0m time\u001b[39m.\u001b[39;49msleep(\u001b[39m60\u001b[39;49m)\n",
      "\u001b[0;31mKeyboardInterrupt\u001b[0m: "
     ]
    }
   ],
   "source": [
    "data_df = pd.DataFrame()\n",
    "\n",
    "coords_dict = {}\n",
    "for k, v in cities_dict.items():\n",
    "    #print(k, v[0])\n",
    "    URL = \"https://api.openweathermap.org/data/2.5/weather?q={0},{1}&appid={2}\" \\\n",
    "        .format(v[0], v[1], api_key)\n",
    "    response = requests.get(url = URL)\n",
    "    data = response.json()\n",
    "    coords_dict[k] = [\n",
    "        data[\"coord\"][\"lon\"], \n",
    "        data[\"coord\"][\"lat\"]]\n",
    "\n",
    "while 1:\n",
    "\n",
    "    measures_dict = {}\n",
    "    for k, v in coords_dict.items():\n",
    "        #print(k, v[0])\n",
    "        URL = \"https://api.openweathermap.org/data/2.5/weather?lat={1}&lon={0}&appid={2}&units=metric\" \\\n",
    "            .format(v[0], v[1], api_key)\n",
    "        PARAMS = {}\n",
    "        response = requests.get(url = URL, params = PARAMS)\n",
    "        data = response.json()\n",
    "        measures_dict[cities_dict[k][0]] = \\\n",
    "            [data[\"dt\"], data[\"main\"][\"temp\"], \n",
    "            data[\"main\"][\"pressure\"], \n",
    "            data[\"main\"][\"humidity\"]]\n",
    "\n",
    "    x = pd.DataFrame(measures_dict).T\n",
    "    x = x.rename(\n",
    "        columns = {\n",
    "            0: \"timestamp\",\n",
    "            1: \"temp\", \n",
    "            2: \"pressure\", \n",
    "            3: \"humidity\"})\n",
    "    x[\"pressure\"] = x[\"pressure\"].astype(\"int\")\n",
    "    x[\"humidity\"] = x[\"humidity\"].astype(\"int\")    \n",
    "    x[\"timestamp\"] = x[\"timestamp\"].astype(\"int\") \n",
    "    x[\"datetime\"] = pd.to_datetime(x['timestamp'], unit = 's')   \n",
    "    #print(x)\n",
    "    data_df = pd.concat([data_df, x])\n",
    "    time.sleep(60)\n",
    "#x = x.set_index([x.index, \"datetime\"])           "
   ]
  },
  {
   "cell_type": "code",
   "execution_count": 51,
   "metadata": {},
   "outputs": [
    {
     "name": "stdout",
     "output_type": "stream",
     "text": [
      "<class 'pandas.core.frame.DataFrame'>\n",
      "Index: 50 entries, Mieres to Madrid\n",
      "Data columns (total 5 columns):\n",
      " #   Column     Non-Null Count  Dtype         \n",
      "---  ------     --------------  -----         \n",
      " 0   timestamp  50 non-null     int64         \n",
      " 1   temp       50 non-null     float64       \n",
      " 2   pressure   50 non-null     int64         \n",
      " 3   humidity   50 non-null     int64         \n",
      " 4   datetime   50 non-null     datetime64[ns]\n",
      "dtypes: datetime64[ns](1), float64(1), int64(3)\n",
      "memory usage: 2.3+ KB\n"
     ]
    }
   ],
   "source": [
    "data_df.info()"
   ]
  },
  {
   "cell_type": "code",
   "execution_count": 52,
   "metadata": {},
   "outputs": [
    {
     "data": {
      "text/html": [
       "<div>\n",
       "<style scoped>\n",
       "    .dataframe tbody tr th:only-of-type {\n",
       "        vertical-align: middle;\n",
       "    }\n",
       "\n",
       "    .dataframe tbody tr th {\n",
       "        vertical-align: top;\n",
       "    }\n",
       "\n",
       "    .dataframe thead th {\n",
       "        text-align: right;\n",
       "    }\n",
       "</style>\n",
       "<table border=\"1\" class=\"dataframe\">\n",
       "  <thead>\n",
       "    <tr style=\"text-align: right;\">\n",
       "      <th></th>\n",
       "      <th>timestamp</th>\n",
       "      <th>temp</th>\n",
       "      <th>pressure</th>\n",
       "      <th>humidity</th>\n",
       "      <th>datetime</th>\n",
       "    </tr>\n",
       "  </thead>\n",
       "  <tbody>\n",
       "    <tr>\n",
       "      <th>Mieres</th>\n",
       "      <td>1654340409</td>\n",
       "      <td>15.52</td>\n",
       "      <td>1016</td>\n",
       "      <td>64</td>\n",
       "      <td>2022-06-04 11:00:09</td>\n",
       "    </tr>\n",
       "    <tr>\n",
       "      <th>Sevilla</th>\n",
       "      <td>1654340482</td>\n",
       "      <td>23.28</td>\n",
       "      <td>1016</td>\n",
       "      <td>53</td>\n",
       "      <td>2022-06-04 11:01:22</td>\n",
       "    </tr>\n",
       "    <tr>\n",
       "      <th>Zarautz</th>\n",
       "      <td>1654340584</td>\n",
       "      <td>19.19</td>\n",
       "      <td>1016</td>\n",
       "      <td>80</td>\n",
       "      <td>2022-06-04 11:03:04</td>\n",
       "    </tr>\n",
       "    <tr>\n",
       "      <th>Barcelona</th>\n",
       "      <td>1654340551</td>\n",
       "      <td>25.47</td>\n",
       "      <td>1014</td>\n",
       "      <td>69</td>\n",
       "      <td>2022-06-04 11:02:31</td>\n",
       "    </tr>\n",
       "    <tr>\n",
       "      <th>Madrid</th>\n",
       "      <td>1654341008</td>\n",
       "      <td>23.29</td>\n",
       "      <td>1004</td>\n",
       "      <td>43</td>\n",
       "      <td>2022-06-04 11:10:08</td>\n",
       "    </tr>\n",
       "  </tbody>\n",
       "</table>\n",
       "</div>"
      ],
      "text/plain": [
       "            timestamp   temp  pressure  humidity            datetime\n",
       "Mieres     1654340409  15.52      1016        64 2022-06-04 11:00:09\n",
       "Sevilla    1654340482  23.28      1016        53 2022-06-04 11:01:22\n",
       "Zarautz    1654340584  19.19      1016        80 2022-06-04 11:03:04\n",
       "Barcelona  1654340551  25.47      1014        69 2022-06-04 11:02:31\n",
       "Madrid     1654341008  23.29      1004        43 2022-06-04 11:10:08"
      ]
     },
     "execution_count": 52,
     "metadata": {},
     "output_type": "execute_result"
    }
   ],
   "source": [
    "data_df.head()"
   ]
  },
  {
   "cell_type": "code",
   "execution_count": 53,
   "metadata": {},
   "outputs": [
    {
     "data": {
      "text/plain": [
       "14"
      ]
     },
     "execution_count": 53,
     "metadata": {},
     "output_type": "execute_result"
    }
   ],
   "source": [
    "data_df[\"timestamp\"].nunique()"
   ]
  },
  {
   "cell_type": "code",
   "execution_count": 54,
   "metadata": {},
   "outputs": [
    {
     "data": {
      "text/html": [
       "<div>\n",
       "<style scoped>\n",
       "    .dataframe tbody tr th:only-of-type {\n",
       "        vertical-align: middle;\n",
       "    }\n",
       "\n",
       "    .dataframe tbody tr th {\n",
       "        vertical-align: top;\n",
       "    }\n",
       "\n",
       "    .dataframe thead th {\n",
       "        text-align: right;\n",
       "    }\n",
       "</style>\n",
       "<table border=\"1\" class=\"dataframe\">\n",
       "  <thead>\n",
       "    <tr style=\"text-align: right;\">\n",
       "      <th></th>\n",
       "      <th>timestamp</th>\n",
       "      <th>temp</th>\n",
       "      <th>pressure</th>\n",
       "      <th>humidity</th>\n",
       "      <th>datetime</th>\n",
       "    </tr>\n",
       "  </thead>\n",
       "  <tbody>\n",
       "    <tr>\n",
       "      <th>Mieres</th>\n",
       "      <td>1654340409</td>\n",
       "      <td>15.52</td>\n",
       "      <td>1016</td>\n",
       "      <td>64</td>\n",
       "      <td>2022-06-04 11:00:09</td>\n",
       "    </tr>\n",
       "    <tr>\n",
       "      <th>Sevilla</th>\n",
       "      <td>1654340482</td>\n",
       "      <td>23.28</td>\n",
       "      <td>1016</td>\n",
       "      <td>53</td>\n",
       "      <td>2022-06-04 11:01:22</td>\n",
       "    </tr>\n",
       "    <tr>\n",
       "      <th>Zarautz</th>\n",
       "      <td>1654340584</td>\n",
       "      <td>19.19</td>\n",
       "      <td>1016</td>\n",
       "      <td>80</td>\n",
       "      <td>2022-06-04 11:03:04</td>\n",
       "    </tr>\n",
       "    <tr>\n",
       "      <th>Barcelona</th>\n",
       "      <td>1654340551</td>\n",
       "      <td>25.47</td>\n",
       "      <td>1014</td>\n",
       "      <td>69</td>\n",
       "      <td>2022-06-04 11:02:31</td>\n",
       "    </tr>\n",
       "    <tr>\n",
       "      <th>Madrid</th>\n",
       "      <td>1654341008</td>\n",
       "      <td>23.29</td>\n",
       "      <td>1004</td>\n",
       "      <td>43</td>\n",
       "      <td>2022-06-04 11:10:08</td>\n",
       "    </tr>\n",
       "    <tr>\n",
       "      <th>Mieres</th>\n",
       "      <td>1654341068</td>\n",
       "      <td>15.42</td>\n",
       "      <td>1016</td>\n",
       "      <td>64</td>\n",
       "      <td>2022-06-04 11:11:08</td>\n",
       "    </tr>\n",
       "    <tr>\n",
       "      <th>Sevilla</th>\n",
       "      <td>1654340784</td>\n",
       "      <td>23.30</td>\n",
       "      <td>1017</td>\n",
       "      <td>54</td>\n",
       "      <td>2022-06-04 11:06:24</td>\n",
       "    </tr>\n",
       "    <tr>\n",
       "      <th>Zarautz</th>\n",
       "      <td>1654340783</td>\n",
       "      <td>19.30</td>\n",
       "      <td>1016</td>\n",
       "      <td>80</td>\n",
       "      <td>2022-06-04 11:06:23</td>\n",
       "    </tr>\n",
       "    <tr>\n",
       "      <th>Mieres</th>\n",
       "      <td>1654341066</td>\n",
       "      <td>15.42</td>\n",
       "      <td>1016</td>\n",
       "      <td>64</td>\n",
       "      <td>2022-06-04 11:11:06</td>\n",
       "    </tr>\n",
       "    <tr>\n",
       "      <th>Barcelona</th>\n",
       "      <td>1654341424</td>\n",
       "      <td>25.64</td>\n",
       "      <td>1013</td>\n",
       "      <td>69</td>\n",
       "      <td>2022-06-04 11:17:04</td>\n",
       "    </tr>\n",
       "    <tr>\n",
       "      <th>Sevilla</th>\n",
       "      <td>1654341549</td>\n",
       "      <td>23.61</td>\n",
       "      <td>1016</td>\n",
       "      <td>53</td>\n",
       "      <td>2022-06-04 11:19:09</td>\n",
       "    </tr>\n",
       "    <tr>\n",
       "      <th>Zarautz</th>\n",
       "      <td>1654341234</td>\n",
       "      <td>19.19</td>\n",
       "      <td>1016</td>\n",
       "      <td>80</td>\n",
       "      <td>2022-06-04 11:13:54</td>\n",
       "    </tr>\n",
       "    <tr>\n",
       "      <th>Barcelona</th>\n",
       "      <td>1654341420</td>\n",
       "      <td>25.64</td>\n",
       "      <td>1013</td>\n",
       "      <td>69</td>\n",
       "      <td>2022-06-04 11:17:00</td>\n",
       "    </tr>\n",
       "    <tr>\n",
       "      <th>Madrid</th>\n",
       "      <td>1654341302</td>\n",
       "      <td>23.20</td>\n",
       "      <td>1017</td>\n",
       "      <td>42</td>\n",
       "      <td>2022-06-04 11:15:02</td>\n",
       "    </tr>\n",
       "  </tbody>\n",
       "</table>\n",
       "</div>"
      ],
      "text/plain": [
       "            timestamp   temp  pressure  humidity            datetime\n",
       "Mieres     1654340409  15.52      1016        64 2022-06-04 11:00:09\n",
       "Sevilla    1654340482  23.28      1016        53 2022-06-04 11:01:22\n",
       "Zarautz    1654340584  19.19      1016        80 2022-06-04 11:03:04\n",
       "Barcelona  1654340551  25.47      1014        69 2022-06-04 11:02:31\n",
       "Madrid     1654341008  23.29      1004        43 2022-06-04 11:10:08\n",
       "Mieres     1654341068  15.42      1016        64 2022-06-04 11:11:08\n",
       "Sevilla    1654340784  23.30      1017        54 2022-06-04 11:06:24\n",
       "Zarautz    1654340783  19.30      1016        80 2022-06-04 11:06:23\n",
       "Mieres     1654341066  15.42      1016        64 2022-06-04 11:11:06\n",
       "Barcelona  1654341424  25.64      1013        69 2022-06-04 11:17:04\n",
       "Sevilla    1654341549  23.61      1016        53 2022-06-04 11:19:09\n",
       "Zarautz    1654341234  19.19      1016        80 2022-06-04 11:13:54\n",
       "Barcelona  1654341420  25.64      1013        69 2022-06-04 11:17:00\n",
       "Madrid     1654341302  23.20      1017        42 2022-06-04 11:15:02"
      ]
     },
     "execution_count": 54,
     "metadata": {},
     "output_type": "execute_result"
    }
   ],
   "source": [
    "data_df.drop_duplicates()"
   ]
  },
  {
   "cell_type": "code",
   "execution_count": 62,
   "metadata": {},
   "outputs": [
    {
     "data": {
      "text/html": [
       "<div>\n",
       "<style scoped>\n",
       "    .dataframe tbody tr th:only-of-type {\n",
       "        vertical-align: middle;\n",
       "    }\n",
       "\n",
       "    .dataframe tbody tr th {\n",
       "        vertical-align: top;\n",
       "    }\n",
       "\n",
       "    .dataframe thead th {\n",
       "        text-align: right;\n",
       "    }\n",
       "</style>\n",
       "<table border=\"1\" class=\"dataframe\">\n",
       "  <thead>\n",
       "    <tr style=\"text-align: right;\">\n",
       "      <th></th>\n",
       "      <th>timestamp</th>\n",
       "      <th>temp</th>\n",
       "      <th>pressure</th>\n",
       "      <th>humidity</th>\n",
       "      <th>datetime</th>\n",
       "    </tr>\n",
       "  </thead>\n",
       "  <tbody>\n",
       "    <tr>\n",
       "      <th>Mieres</th>\n",
       "      <td>1654340409</td>\n",
       "      <td>15.52</td>\n",
       "      <td>1016</td>\n",
       "      <td>64</td>\n",
       "      <td>2022-06-04 11:00:09</td>\n",
       "    </tr>\n",
       "    <tr>\n",
       "      <th>Mieres</th>\n",
       "      <td>1654341068</td>\n",
       "      <td>15.42</td>\n",
       "      <td>1016</td>\n",
       "      <td>64</td>\n",
       "      <td>2022-06-04 11:11:08</td>\n",
       "    </tr>\n",
       "    <tr>\n",
       "      <th>Mieres</th>\n",
       "      <td>1654341066</td>\n",
       "      <td>15.42</td>\n",
       "      <td>1016</td>\n",
       "      <td>64</td>\n",
       "      <td>2022-06-04 11:11:06</td>\n",
       "    </tr>\n",
       "  </tbody>\n",
       "</table>\n",
       "</div>"
      ],
      "text/plain": [
       "         timestamp   temp  pressure  humidity            datetime\n",
       "Mieres  1654340409  15.52      1016        64 2022-06-04 11:00:09\n",
       "Mieres  1654341068  15.42      1016        64 2022-06-04 11:11:08\n",
       "Mieres  1654341066  15.42      1016        64 2022-06-04 11:11:06"
      ]
     },
     "execution_count": 62,
     "metadata": {},
     "output_type": "execute_result"
    }
   ],
   "source": [
    "data_df.drop_duplicates().loc[\"Mieres\"]"
   ]
  },
  {
   "cell_type": "code",
   "execution_count": 60,
   "metadata": {},
   "outputs": [
    {
     "data": {
      "text/plain": [
       "array([15.52, 15.42])"
      ]
     },
     "execution_count": 60,
     "metadata": {},
     "output_type": "execute_result"
    }
   ],
   "source": [
    "data_df.drop_duplicates().loc[\"Mieres\"][\"temp\"].unique()"
   ]
  },
  {
   "cell_type": "code",
   "execution_count": null,
   "metadata": {},
   "outputs": [],
   "source": []
  }
 ],
 "metadata": {
  "interpreter": {
   "hash": "916dbcbb3f70747c44a77c7bcd40155683ae19c65e1c03b4aa3499c5328201f1"
  },
  "kernelspec": {
   "display_name": "Python 3.8.10 64-bit",
   "language": "python",
   "name": "python3"
  },
  "language_info": {
   "codemirror_mode": {
    "name": "ipython",
    "version": 3
   },
   "file_extension": ".py",
   "mimetype": "text/x-python",
   "name": "python",
   "nbconvert_exporter": "python",
   "pygments_lexer": "ipython3",
   "version": "3.8.10"
  },
  "orig_nbformat": 4
 },
 "nbformat": 4,
 "nbformat_minor": 2
}

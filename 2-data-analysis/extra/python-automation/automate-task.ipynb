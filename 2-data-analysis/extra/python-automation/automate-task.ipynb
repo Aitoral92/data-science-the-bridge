{
 "cells": [
  {
   "cell_type": "code",
   "execution_count": 1,
   "metadata": {},
   "outputs": [],
   "source": [
    "import requests\n",
    "import pandas as pd\n",
    "import uuid\n",
    "\n",
    "# SQLITE3 to manage a very simple database\n",
    "# https://www.sqlite.org/\n",
    "import sqlite3"
   ]
  },
  {
   "cell_type": "code",
   "execution_count": 2,
   "metadata": {},
   "outputs": [],
   "source": [
    "api_key = \"f275aa333c628e5a702c7d4f1fce6cdb\"\n",
    "\n",
    "cities_dict = {\n",
    "    0: [\"Mieres\", \"ES\"],\n",
    "    1: [\"Sevilla\", \"ES\"],\n",
    "    2: [\"Zarautz\", \"ES\"],\n",
    "    3: [\"Barcelona\", \"ES\"],\n",
    "    4: [\"Madrid\", \"ES\"]\n",
    "}"
   ]
  },
  {
   "cell_type": "code",
   "execution_count": 4,
   "metadata": {},
   "outputs": [],
   "source": [
    "# Create if not exists\n",
    "# or connect to the SQLITE3 database\n",
    "conn = sqlite3.connect('db.sqlite3')\n",
    "\n",
    "# Generate a cursor to access to the database\n",
    "c = conn.cursor()"
   ]
  },
  {
   "cell_type": "code",
   "execution_count": 5,
   "metadata": {},
   "outputs": [],
   "source": [
    "create_cities_query = \"\"\"\n",
    "    CREATE TABLE IF NOT EXISTS city (\n",
    "        [uuid] TEXT PRIMARY KEY, \n",
    "        [name] TEXT,\n",
    "        [country] TEXT,\n",
    "        [lon] TEXT, \n",
    "        [lat] TEXT        \n",
    "    );\n",
    "\"\"\"\n",
    "\n",
    "create_measures_query = \"\"\"\n",
    "    CREATE TABLE IF NOT EXISTS measure (\n",
    "        [uuid] TEXT PRIMARY KEY, \n",
    "        [timestamp] TEXT,\n",
    "        [city_uuid] TEXT,\n",
    "        [humi] INTEGER,\n",
    "        [temp] REAL,\n",
    "        [pressure] INTEGER,\n",
    "        [wind] REAL,\n",
    "        FOREIGN KEY(city_uuid) REFERENCES city(uuid)\n",
    "    );\n",
    "\"\"\"\n",
    "\n",
    "select_all_cities = \"\"\"\n",
    "    SELECT\n",
    "        uuid,\n",
    "        name,\n",
    "        country,\n",
    "        lon, \n",
    "        lat\n",
    "    FROM city;\n",
    "\"\"\"\n",
    "\n",
    "select_all_measures = \"\"\"\n",
    "    SELECT\n",
    "        uuid,\n",
    "        timestamp,\n",
    "        city_uuid,\n",
    "        humi, \n",
    "        temp,\n",
    "        pressure,\n",
    "        wind\n",
    "    FROM measure;\n",
    "\"\"\"\n"
   ]
  },
  {
   "cell_type": "code",
   "execution_count": 6,
   "metadata": {},
   "outputs": [],
   "source": [
    "c.execute(create_cities_query)\n",
    "c.execute(create_measures_query)\n",
    "                     \n",
    "conn.commit()"
   ]
  },
  {
   "cell_type": "code",
   "execution_count": 7,
   "metadata": {},
   "outputs": [
    {
     "data": {
      "text/plain": [
       "<sqlite3.Cursor at 0x7ff8a0207570>"
      ]
     },
     "execution_count": 7,
     "metadata": {},
     "output_type": "execute_result"
    }
   ],
   "source": [
    "c.execute(select_all_cities)"
   ]
  },
  {
   "cell_type": "code",
   "execution_count": 8,
   "metadata": {},
   "outputs": [],
   "source": [
    "all_cities = c.fetchall()"
   ]
  },
  {
   "cell_type": "code",
   "execution_count": 9,
   "metadata": {},
   "outputs": [],
   "source": [
    "cities_df = pd.read_sql_query(\"SELECT * FROM city\", conn)"
   ]
  },
  {
   "cell_type": "code",
   "execution_count": 25,
   "metadata": {},
   "outputs": [
    {
     "name": "stdout",
     "output_type": "stream",
     "text": [
      "                                           name country      lon      lat\n",
      "uuid                                                                     \n",
      "93fbb7ec-74e9-405f-a4f5-f01611d92416     Mieres      ES  -5.7667    43.25\n",
      "2a7e7843-f6f4-4fa7-aeb8-1086ce96b2ee    Sevilla      ES  -5.9761  37.3824\n",
      "69b6e1cc-853a-44ae-b699-36184a29a159    Zarautz      ES  -2.1699  43.2844\n",
      "a9b7056b-cab4-4ebb-9a1d-905fa692d866  Barcelona      ES    2.159  41.3888\n",
      "25c121b7-69ba-4ebc-bfc0-cf19ef9ca4ae     Madrid      ES  -3.7026  40.4165\n"
     ]
    }
   ],
   "source": [
    "try:\n",
    "    print(cities_df.set_index(\"uuid\").head(10))\n",
    "except Exception as e:\n",
    "    pass"
   ]
  },
  {
   "cell_type": "code",
   "execution_count": 62,
   "metadata": {},
   "outputs": [
    {
     "name": "stdout",
     "output_type": "stream",
     "text": [
      "69d381fe-4bcc-4907-9091-7c541999c237 1654553165 93fbb7ec-74e9-405f-a4f5-f01611d92416 93 14.5 1022 0.68\n",
      "65cfc118-867c-4b2a-ac12-bcf6ef8dbc37 1654552613 2a7e7843-f6f4-4fa7-aeb8-1086ce96b2ee 40 24.41 1016 2.57\n",
      "819ec908-8732-447c-8935-911f363559fa 1654553126 69b6e1cc-853a-44ae-b699-36184a29a159 83 17.63 1022 1.31\n",
      "9c06c647-6fcc-4ef7-9781-7c1df1cd5d20 1654552500 a9b7056b-cab4-4ebb-9a1d-905fa692d866 69 23.25 1017 5.14\n",
      "aa738668-38db-43e5-99e9-e93fbd26a611 1654552693 25c121b7-69ba-4ebc-bfc0-cf19ef9ca4ae 34 24.48 1005 3.09\n"
     ]
    }
   ],
   "source": [
    "if len(all_cities) < 1:\n",
    "\n",
    "    coords_dict = {}\n",
    "\n",
    "    for k, v in cities_dict.items():\n",
    "        URL = \"https://api.openweathermap.org/data/2.5/weather?q={0},{1}&appid={2}\" \\\n",
    "            .format(v[0], v[1], api_key)\n",
    "        response = requests.get(url = URL)\n",
    "        data = response.json()\n",
    "        coords_dict[k] = [\n",
    "            data[\"coord\"][\"lon\"], \n",
    "            data[\"coord\"][\"lat\"]]\n",
    "\n",
    "    for city, coord in zip(cities_dict.items(), coords_dict.items()):\n",
    "\n",
    "        _uuid = str(uuid.uuid4())\n",
    "        name = city[1][0]\n",
    "        country = city[1][1]\n",
    "        lon = coord[1][0]\n",
    "        lat = coord[1][1]\n",
    "\n",
    "        #print(_uuid, name, country, lon, lat)\n",
    "\n",
    "        insert_into_city = \"\"\"\n",
    "            INSERT INTO city \n",
    "                (uuid, name, country, lon, lat)\n",
    "                VALUES ('{0}', '{1}', '{2}', {3}, {4});\n",
    "            \"\"\".format(_uuid, name, country, lon, lat)\n",
    "\n",
    "        c.execute(insert_into_city)\n",
    "        conn.commit()  \n",
    "\n",
    "else:\n",
    "\n",
    "    measures_dict = {}\n",
    "\n",
    "    for city in all_cities:\n",
    "\n",
    "        _uuid = str(uuid.uuid4())\n",
    "        city_uuid = city[0]\n",
    "        lat = city[3]\n",
    "        lon = city[4]\n",
    "        URL = \"https://api.openweathermap.org/data/2.5/weather?lat={1}&lon={0}&appid={2}&units=metric\" \\\n",
    "            .format(lat, lon, api_key)\n",
    "        PARAMS = {}\n",
    "        response = requests.get(url = URL, params = PARAMS)\n",
    "        data = response.json() \n",
    "        humi = data[\"main\"][\"humidity\"]\n",
    "        temp = data[\"main\"][\"temp\"]\n",
    "        pressure = data[\"main\"][\"pressure\"]\n",
    "        wind = data[\"wind\"][\"speed\"]\n",
    "        timestamp = data[\"dt\"]\n",
    "\n",
    "        #print(_uuid, timestamp, city_uuid, humi, temp, pressure, wind)\n",
    "\n",
    "        insert_into_measure = \"\"\"\n",
    "            INSERT INTO measure \n",
    "                (uuid, timestamp, city_uuid, humi, temp, pressure, wind)\n",
    "                VALUES ('{0}', '{1}', '{2}', {3}, {4}, {5}, {6});\n",
    "            \"\"\".format(_uuid, timestamp, city_uuid, humi, temp, pressure, wind) \n",
    "\n",
    "        c.execute(insert_into_measure)\n",
    "        conn.commit()         \n",
    "\n"
   ]
  },
  {
   "cell_type": "code",
   "execution_count": 20,
   "metadata": {},
   "outputs": [],
   "source": [
    "measures_df = pd.read_sql_query(\"SELECT * FROM measure\", conn)\n",
    "measures_df[\"datetime\"] = pd.to_datetime(measures_df[\"timestamp\"], unit = 's') "
   ]
  },
  {
   "cell_type": "code",
   "execution_count": 21,
   "metadata": {},
   "outputs": [
    {
     "name": "stdout",
     "output_type": "stream",
     "text": [
      "<class 'pandas.core.frame.DataFrame'>\n",
      "RangeIndex: 5 entries, 0 to 4\n",
      "Data columns (total 8 columns):\n",
      " #   Column     Non-Null Count  Dtype         \n",
      "---  ------     --------------  -----         \n",
      " 0   uuid       5 non-null      object        \n",
      " 1   timestamp  5 non-null      object        \n",
      " 2   city_uuid  5 non-null      object        \n",
      " 3   humi       5 non-null      int64         \n",
      " 4   temp       5 non-null      float64       \n",
      " 5   pressure   5 non-null      int64         \n",
      " 6   wind       5 non-null      float64       \n",
      " 7   datetime   5 non-null      datetime64[ns]\n",
      "dtypes: datetime64[ns](1), float64(2), int64(2), object(3)\n",
      "memory usage: 448.0+ bytes\n"
     ]
    }
   ],
   "source": [
    "measures_df.info()"
   ]
  },
  {
   "cell_type": "code",
   "execution_count": 26,
   "metadata": {},
   "outputs": [
    {
     "name": "stdout",
     "output_type": "stream",
     "text": [
      "                                       timestamp  \\\n",
      "uuid                                               \n",
      "69d381fe-4bcc-4907-9091-7c541999c237  1654553165   \n",
      "65cfc118-867c-4b2a-ac12-bcf6ef8dbc37  1654552613   \n",
      "819ec908-8732-447c-8935-911f363559fa  1654553126   \n",
      "9c06c647-6fcc-4ef7-9781-7c1df1cd5d20  1654552500   \n",
      "aa738668-38db-43e5-99e9-e93fbd26a611  1654552693   \n",
      "\n",
      "                                                                 city_uuid  \\\n",
      "uuid                                                                         \n",
      "69d381fe-4bcc-4907-9091-7c541999c237  93fbb7ec-74e9-405f-a4f5-f01611d92416   \n",
      "65cfc118-867c-4b2a-ac12-bcf6ef8dbc37  2a7e7843-f6f4-4fa7-aeb8-1086ce96b2ee   \n",
      "819ec908-8732-447c-8935-911f363559fa  69b6e1cc-853a-44ae-b699-36184a29a159   \n",
      "9c06c647-6fcc-4ef7-9781-7c1df1cd5d20  a9b7056b-cab4-4ebb-9a1d-905fa692d866   \n",
      "aa738668-38db-43e5-99e9-e93fbd26a611  25c121b7-69ba-4ebc-bfc0-cf19ef9ca4ae   \n",
      "\n",
      "                                      humi   temp  pressure  wind  \\\n",
      "uuid                                                                \n",
      "69d381fe-4bcc-4907-9091-7c541999c237    93  14.50      1022  0.68   \n",
      "65cfc118-867c-4b2a-ac12-bcf6ef8dbc37    40  24.41      1016  2.57   \n",
      "819ec908-8732-447c-8935-911f363559fa    83  17.63      1022  1.31   \n",
      "9c06c647-6fcc-4ef7-9781-7c1df1cd5d20    69  23.25      1017  5.14   \n",
      "aa738668-38db-43e5-99e9-e93fbd26a611    34  24.48      1005  3.09   \n",
      "\n",
      "                                                datetime  \n",
      "uuid                                                      \n",
      "69d381fe-4bcc-4907-9091-7c541999c237 2022-06-06 22:06:05  \n",
      "65cfc118-867c-4b2a-ac12-bcf6ef8dbc37 2022-06-06 21:56:53  \n",
      "819ec908-8732-447c-8935-911f363559fa 2022-06-06 22:05:26  \n",
      "9c06c647-6fcc-4ef7-9781-7c1df1cd5d20 2022-06-06 21:55:00  \n",
      "aa738668-38db-43e5-99e9-e93fbd26a611 2022-06-06 21:58:13  \n"
     ]
    }
   ],
   "source": [
    "print(measures_df.set_index(\"uuid\").head(10))"
   ]
  }
 ],
 "metadata": {
  "interpreter": {
   "hash": "916dbcbb3f70747c44a77c7bcd40155683ae19c65e1c03b4aa3499c5328201f1"
  },
  "kernelspec": {
   "display_name": "Python 3.8.10 64-bit",
   "language": "python",
   "name": "python3"
  },
  "language_info": {
   "codemirror_mode": {
    "name": "ipython",
    "version": 3
   },
   "file_extension": ".py",
   "mimetype": "text/x-python",
   "name": "python",
   "nbconvert_exporter": "python",
   "pygments_lexer": "ipython3",
   "version": "3.8.10"
  },
  "orig_nbformat": 4
 },
 "nbformat": 4,
 "nbformat_minor": 2
}

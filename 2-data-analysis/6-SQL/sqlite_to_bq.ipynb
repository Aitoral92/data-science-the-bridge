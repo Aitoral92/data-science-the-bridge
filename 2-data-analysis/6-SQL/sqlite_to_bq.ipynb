{
 "cells": [
  {
   "cell_type": "code",
   "execution_count": 1,
   "metadata": {},
   "outputs": [],
   "source": [
    "import requests\n",
    "import pandas as pd\n",
    "import uuid\n",
    "\n",
    "# SQLITE3 to manage a very simple database\n",
    "# https://www.sqlite.org/\n",
    "import sqlite3"
   ]
  },
  {
   "cell_type": "code",
   "execution_count": 2,
   "metadata": {},
   "outputs": [],
   "source": [
    "# Create if not exists\n",
    "# or connect to the SQLITE3 database\n",
    "conn = sqlite3.connect('sql-murder-mystery.db')\n",
    "\n",
    "# Generate a cursor to access to the database\n",
    "c = conn.cursor()"
   ]
  },
  {
   "cell_type": "code",
   "execution_count": 6,
   "metadata": {},
   "outputs": [],
   "source": [
    "tables_q = 'SELECT name from sqlite_master where type= \"table\"'\n",
    "c.execute(tables_q)\n",
    "tables = c.fetchall()"
   ]
  },
  {
   "cell_type": "code",
   "execution_count": 14,
   "metadata": {},
   "outputs": [],
   "source": [
    "for table in tables:\n",
    "    #print(table[0])\n",
    "    table_name = table[0]\n",
    "    df = pd.read_sql_query(\"SELECT * FROM {0}\".format(table_name), conn)\n",
    "    df.to_csv(\"{0}.csv\".format(table_name), index = False)"
   ]
  }
 ],
 "metadata": {
  "kernelspec": {
   "display_name": "Python 3.8.10 64-bit",
   "language": "python",
   "name": "python3"
  },
  "language_info": {
   "codemirror_mode": {
    "name": "ipython",
    "version": 3
   },
   "file_extension": ".py",
   "mimetype": "text/x-python",
   "name": "python",
   "nbconvert_exporter": "python",
   "pygments_lexer": "ipython3",
   "version": "3.8.10"
  },
  "orig_nbformat": 4,
  "vscode": {
   "interpreter": {
    "hash": "916dbcbb3f70747c44a77c7bcd40155683ae19c65e1c03b4aa3499c5328201f1"
   }
  }
 },
 "nbformat": 4,
 "nbformat_minor": 2
}

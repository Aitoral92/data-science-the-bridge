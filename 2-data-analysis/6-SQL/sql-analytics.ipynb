{
 "cells": [
  {
   "cell_type": "markdown",
   "metadata": {},
   "source": [
    "Those familiar with traditional SQL databases already know how aggregate functions work, but for the sake of completeness, I’ll include it here.\n",
    "An aggregate function is a function that computes a single aggregate value over a group of rows. The syntax of this function is simple enough:"
   ]
  },
  {
   "cell_type": "code",
   "execution_count": null,
   "metadata": {
    "vscode": {
     "languageId": "sql"
    }
   },
   "outputs": [],
   "source": [
    "SELECT \n",
    "    AVG(age)\n",
    "FROM `data-science-349808.the_bridge_retailer.customer`"
   ]
  },
  {
   "cell_type": "markdown",
   "metadata": {},
   "source": [
    "Each column that is not aggregated has to be present in the GROUP BY clause:"
   ]
  },
  {
   "cell_type": "code",
   "execution_count": null,
   "metadata": {
    "vscode": {
     "languageId": "sql"
    }
   },
   "outputs": [],
   "source": [
    "SELECT \n",
    "    postal_code,\n",
    "    AVG(age)\n",
    "FROM `data-science-349808.the_bridge_retailer.transaction`\n",
    "GROUP BY customer_id"
   ]
  },
  {
   "cell_type": "markdown",
   "metadata": {},
   "source": [
    "In contrast, an analytic function is a function that computes an aggregate value for each row over a group of rows. The syntax of this function is as follows:"
   ]
  },
  {
   "cell_type": "code",
   "execution_count": null,
   "metadata": {
    "vscode": {
     "languageId": "sql"
    }
   },
   "outputs": [],
   "source": [
    "SELECT \n",
    "    AVG(age) OVER (...)\n",
    "FROM `data-science-349808.the_bridge_retailer.transaction`"
   ]
  },
  {
   "cell_type": "markdown",
   "metadata": {},
   "source": [
    "Because grouping is done through the analytic function’s own condition block, the GROUP BY clause is not necessary."
   ]
  },
  {
   "cell_type": "markdown",
   "metadata": {},
   "source": [
    "#### PARTITION BY"
   ]
  },
  {
   "cell_type": "markdown",
   "metadata": {},
   "source": [
    "PARTITION BY is arguably the most important clause of an analytic function. Similar to the aggregate function’s GROUP BY clause, it limits the number of rows the function computes merely on a subset of all rows. While all non-aggregate columns must be included in a GROUP BY clause, there is no such restriction here."
   ]
  },
  {
   "cell_type": "markdown",
   "metadata": {},
   "source": [
    "https://cloud.google.com/bigquery/docs/reference/standard-sql/window-function-calls"
   ]
  },
  {
   "cell_type": "code",
   "execution_count": null,
   "metadata": {
    "vscode": {
     "languageId": "sql"
    }
   },
   "outputs": [],
   "source": [
    "SELECT\n",
    "  *,\n",
    "  ABS(age - AVG(age) OVER (\n",
    "      PARTITION BY postal_code)) AS diff_from_avg,\n",
    "FROM `data-science-349808.the_bridge_retailer.customer`"
   ]
  },
  {
   "cell_type": "code",
   "execution_count": null,
   "metadata": {
    "vscode": {
     "languageId": "sql"
    }
   },
   "outputs": [],
   "source": [
    "WITH averages AS (\n",
    "  SELECT postal_code, AVG(age) AS AvgAge\n",
    "  FROM `data-science-349808.the_bridge_retailer.customer`\n",
    "  GROUP BY postal_code\n",
    ")\n",
    "\n",
    "SELECT\n",
    "  o.*,\n",
    "  ABS(o.age - a.AvgAge) AS diff_from_avg\n",
    "FROM `data-science-349808.the_bridge_retailer.customer` o\n",
    "JOIN averages a\n",
    "USING (postal_code)"
   ]
  },
  {
   "cell_type": "markdown",
   "metadata": {},
   "source": [
    "https://cloud.google.com/bigquery/docs/reference/standard-sql/numbering_functions"
   ]
  },
  {
   "cell_type": "code",
   "execution_count": null,
   "metadata": {
    "vscode": {
     "languageId": "sql"
    }
   },
   "outputs": [],
   "source": [
    "SELECT \n",
    "  customer_id,\n",
    "  t_dat,\n",
    "  article_id,\n",
    "  price,\n",
    "  ROW_NUMBER() OVER (\n",
    "      PARTITION BY customer_id ORDER BY t_dat ASC) AS order_rank\n",
    "FROM `data-science-349808.the_bridge_retailer.transaction`\n",
    "ORDER BY customer_id DESC,\n",
    "    order_rank ASC;"
   ]
  }
 ],
 "metadata": {
  "kernelspec": {
   "display_name": "Python 3.8.10 64-bit",
   "language": "python",
   "name": "python3"
  },
  "language_info": {
   "codemirror_mode": {
    "name": "ipython",
    "version": 3
   },
   "file_extension": ".py",
   "mimetype": "text/x-python",
   "name": "python",
   "nbconvert_exporter": "python",
   "pygments_lexer": "ipython3",
   "version": "3.8.10"
  },
  "orig_nbformat": 4,
  "vscode": {
   "interpreter": {
    "hash": "916dbcbb3f70747c44a77c7bcd40155683ae19c65e1c03b4aa3499c5328201f1"
   }
  }
 },
 "nbformat": 4,
 "nbformat_minor": 2
}

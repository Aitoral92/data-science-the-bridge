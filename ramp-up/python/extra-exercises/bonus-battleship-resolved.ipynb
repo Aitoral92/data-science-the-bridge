{
 "cells": [
  {
   "cell_type": "markdown",
   "metadata": {},
   "source": [
    "# Ejercicio Hundir La Flota | Challenge yourself | Week 2\n",
    "## Precurso DSNov20 - The Bridge\n",
    "\n",
    "Se mantiene en español para que no se os olvide leer en español. \n",
    "Disculpen las molestias que esto pudiera ocasionarle como estudiante. "
   ]
  },
  {
   "cell_type": "markdown",
   "metadata": {},
   "source": [
    "En este ejercicio deberás programar el juego **hundir la flota** o [**batalla naval**](https://es.wikipedia.org/wiki/Batalla_naval_(juego)) "
   ]
  },
  {
   "cell_type": "markdown",
   "metadata": {},
   "source": [
    "El tablero de este juego será una matriz de 10x10 dimensiones, matriz sobre la que plamaremos el estado de cada turno. Cada matriz de información continente del estado en cada momento, se mostrará por pantalla."
   ]
  },
  {
   "cell_type": "markdown",
   "metadata": {},
   "source": [
    "![tablero](https://i.pinimg.com/474x/1c/66/ca/1c66ca8d767428dcd1c39285643f3987--yahoo-search.jpg)"
   ]
  },
  {
   "cell_type": "markdown",
   "metadata": {},
   "source": [
    "**Las reglas son las siguientes:**\n",
    "\n",
    "- Cada jugador deberá colocar en su tablero:\n",
    "    - 4 barcos tamaño 2x1. \n",
    "\n",
    "    - 3 barcos tamaño 3x1.\n",
    "\n",
    "    - 2 barcos tamaño 4x1.\n",
    "    \n",
    "    - 1 barco tamaño 5x1. \n",
    "    \n",
    "\n",
    "- En cada turno, el jugador correspondiente debe elegir una casilla de la matriz (10x10) y ambos jugadores marcarán la casilla en la matriz.\n",
    "- Si la casilla que se ha elegido es agua, será marcada como un una \"**o**\" y si la casilla que ha marcado es uno de los barcos, la casilla será marcada con una \"**x**\". \n",
    "- Los barcos han de ser mostrados con un \"__*__\" en la matriz. \n",
    "- Los espacios con agua serán mostrados como \"**~**\".\n",
    "\n",
    "Antes de que comience la partida, cada jugador deberá crear su estado inicial. El estado inicial es una configuración de la matriz con todos los barcos colocados. Para ello, el programa debería preguntar, uno a uno, dónde se quiere colocar cada barco. El estilo de pregunta, ha de ser: \n",
    "\n",
    "- Inserte la posición del barco 1 (2x1). El usuario ha de escribir si se quiere insertar en la 4a fila, en horizontal y ocupando las últimas dos columnas: `4h9:10`.\n",
    "- Inserte la posición del barco 2 (2x1). El usuario ha de escribir si se quiere insertar en la 8a fila, en horizontal y ocupando las dos primeras columnas: `8h1:2`.\n",
    "- Inserte la posición del barco 3 (5x1). Si se quiere colocar en vertical empezando por la fila 1 a la 5 y columna 8: `8v1:5`.\n",
    "\n",
    "También tendrás la opción de cargar una partida anteriormente definida en formato [JSON](https://www.w3schools.com/python/python_json.asp).\n",
    "\n",
    "Para saber quien empieza a jugar, los jugadores deberán ponerse de acuerdo para que uno de ellos sea el que llame a una función que devuelva dos valores random del 1 al 6, de tipo entero. El primer valor que se muestre por pantalla será el correspondiente al jugador que llama a la función, el segundo será el del contrincante. Quien saque un valor más alto, empieza. \n",
    "\n",
    "Además, el programa guardará el nombre de los jugadores y el histórico, es decir, todos los estados de la partida. Para ello se utilizará el formato JSON.\n",
    "\n",
    "Cuando un jugador haya creado su estado inicial, este estado también deberá ser guardado en formato JSON. Antes de que se inicie la partida, el otro jugador deberá cargar tu estado inicial y tú el suyo. El estado inicial del enemigo es el que usará tu programa para comprobar si las coordenadas que has utilizado han acertado en el blanco o no. \n",
    "\n",
    "El formato de preguntas por turno es: \n",
    "\n",
    "- `Inserte coordenadas a atacar:`. La respuesta válida será `0x8` --> fila 0, columna 8. \n",
    "\n",
    "Una vez insertada las coordenadas, deberá resultar en que aparezcan tu matriz y la matriz de estado de tu enemigo, esta última con la nueva coordenada marcada sin la flota excepto si el torpedo hubiera dado en el blanco. "
   ]
  },
  {
   "cell_type": "markdown",
   "metadata": {},
   "source": [
    "**A modo de resumen:**\n",
    "\n",
    "1. Se eligen los nombres de jugador. ¡Recuerda no dejar espacios!\n",
    "\n",
    "2. Se pregunta sobre las posiciones de tu flota. Una vez que se haya definido, el sistema debe guardar en JSON el estado de tu flota. OPCIONAL: Puedes cargar una partida a partir de un fichero JSON.\n",
    "\n",
    "3. Se carga el estado inicial de tu enemigo a partir de un fichero JSON que te habrá definido previamente. El fichero estará en una carpeta llamada \"Partidas_Batalla_Naval\". Para cargar el fichero se debe introducir la ruta o nombre del fichero. \n",
    "\n",
    "4. Cuando ambos estéis en el mismo punto y se sepa quien es el primero, se debe escribir *primero* o *segundo*. Si eres primero, el sistema empezará preguntándote las coordenadas. Si eres segundo, el sistema preguntará por las coordenadas del rival. \n",
    "\n",
    "5. Se debe mostrar por pantalla dos matrices: una matriz 10x10 que representa los puntos que has ido marcando, que no mostrará la flota del enemigo excepto si algún barco ha sido dañado, y otra a la derecha que muestre tu flota con los puntos que hayan sido atacados por parte del contrincante. \n",
    "\n",
    "6. Cuando toda la flota de uno de los dos jugadores haya sido exterminada, se mostrará el ganador de la partida. Que si has sido tú el que ha programado este juego, ya habrás ganado incluso antes de empezar a jugar. "
   ]
  },
  {
   "cell_type": "code",
   "execution_count": 21,
   "metadata": {},
   "outputs": [],
   "source": [
    "# pprint to see the things prettier\n",
    "import pprint as pp"
   ]
  },
  {
   "cell_type": "markdown",
   "metadata": {},
   "source": [
    " Ten en cuenta que lo ideal será que programes este juego en `.py` de modo que puedas ejecutar dicho programa por la terminal. "
   ]
  },
  {
   "cell_type": "code",
   "execution_count": 22,
   "metadata": {},
   "outputs": [],
   "source": [
    "# NUmber of players in teh game\n",
    "NUM_PLAYERS = 2\n",
    "\n",
    "# CELL Vars\n",
    "WATER_CELL = \"~\"\n",
    "BOAT_CELL = \"*\"\n",
    "# REQUEST Vars\n",
    "WATER_REQ = \"o\"\n",
    "BOAT_REQ = \"x\"\n",
    "\n",
    "\n",
    "# Create the initial table with all water\n",
    "INIT_TABLE = [[WATER_CELL] * 10 for i in range(10)]\n",
    "#pp.pprint(INIT_TABLE)\n",
    "\n",
    "# Dict with the boat and characteristics\n",
    "# The key is the name of the size, \n",
    "# the first value in the list is the number of cells,\n",
    "# the second value in the list is the number of boats of this type\n",
    "BOATS_MASTER_DICT = {\n",
    "#   NAME: [NUMBER OF CELLS, NUMBER OF BOATS]\n",
    "    \"S\": [2, 4],\n",
    "    \"M\": [3, 3],\n",
    "    \"L\": [4, 2],\n",
    "    \"XL\": [5, 1], \n",
    "}"
   ]
  },
  {
   "cell_type": "code",
   "execution_count": 23,
   "metadata": {},
   "outputs": [],
   "source": [
    "class Player():\n",
    "    # Init value to know the order in the first round\n",
    "    init_value = 0\n",
    "\n",
    "    def __init__(self, name):\n",
    "        self.name = name\n",
    "\n",
    "class Boat():\n",
    "    \n",
    "    # Dict to cluster all the boats\n",
    "    sizes_dict = {\n",
    "        2: \"S\",\n",
    "        3: \"M\",\n",
    "        4: \"L\",\n",
    "        5: \"XL\",\n",
    "    }\n",
    "    \n",
    "    # Function to understand the orientation of the boat\n",
    "    def get_orientation(self, pos):\n",
    "        if \"v\" in pos.lower():\n",
    "            return \"VERTICAL\"\n",
    "        elif \"h\" in pos.lower():\n",
    "            return \"HORIZONTAL\"\n",
    "        else:\n",
    "            return \"ERROR\"\n",
    "\n",
    "    def __init__(self, player, size_num, pos):\n",
    "        self.player = player\n",
    "        self.size_num = size_num\n",
    "        self.pos = pos\n",
    "        self.size = self.sizes_dict[size_num]\n",
    "        self.orientacion = self.get_orientation(pos) "
   ]
  },
  {
   "cell_type": "code",
   "execution_count": 24,
   "metadata": {},
   "outputs": [
    {
     "name": "stdout",
     "output_type": "stream",
     "text": [
      "Bienvenido al juego PatataMale\n",
      "Bienvenido al juego GustavoMartinVela\n"
     ]
    }
   ],
   "source": [
    "# Creare a ¡list to save the players\n",
    "player_lst = []\n",
    "\n",
    "# Iterate to create the players\n",
    "for i in range(NUM_PLAYERS):\n",
    "    name = \"\"\n",
    "    # While the inserted value is not a correct name\n",
    "    # repeat the input function\n",
    "    while name.isdigit() or name is None or name == \"\":\n",
    "        name = input(\"\"\"\n",
    "             Inserte el nombre del {0}º jugador y pulse enter.\\n\n",
    "             Recuerda no dejar espacios o se eliminaran\"\"\" \\\n",
    "            .format(i + 1))\n",
    "        # Split the name and join the splitted to delete spaces\n",
    "        name_splitted = name.split(\" \")\n",
    "        valid_name = \"\".join([ns.title() for ns in name_splitted])\n",
    "        # Create the Players\n",
    "        player = Player(valid_name)\n",
    "        # Add the players to one list\n",
    "        player_lst.append(player)\n",
    "        # Print a welcome string for all the players\n",
    "        welcome_str = \"Bienvenido al juego {0}\".format(player.name)\n",
    "        print(welcome_str)\n",
    "\n",
    "#[print(n.name) for n in player_lst]"
   ]
  },
  {
   "cell_type": "code",
   "execution_count": 26,
   "metadata": {},
   "outputs": [
    {
     "name": "stdout",
     "output_type": "stream",
     "text": [
      "Te toca elegir donde quieres poner tus barcos PatataMale\n",
      "Te toca elegir donde quieres poner tus barcos GustavoMartinVela\n"
     ]
    }
   ],
   "source": [
    "# Iter over the players to save their boats\n",
    "for p in player_lst:\n",
    "    select_str = \"Te toca elegir donde quieres poner tus barcos {0}\".format(p.name)\n",
    "    print(select_str)    "
   ]
  },
  {
   "cell_type": "code",
   "execution_count": 19,
   "metadata": {},
   "outputs": [
    {
     "data": {
      "text/plain": [
       "'XzcacDsvsvsSdgyui'"
      ]
     },
     "execution_count": 19,
     "metadata": {},
     "output_type": "execute_result"
    }
   ],
   "source": [
    "x = [\"xzcac\", \"dsvsvs\", \"sdGYUI\"]\n",
    "\"\".join([t.title() for t in x])"
   ]
  },
  {
   "cell_type": "code",
   "execution_count": null,
   "metadata": {},
   "outputs": [],
   "source": []
  }
 ],
 "metadata": {
  "file_extension": ".py",
  "kernelspec": {
   "display_name": "Python 3",
   "language": "python",
   "name": "python3"
  },
  "language_info": {
   "codemirror_mode": {
    "name": "ipython",
    "version": 3
   },
   "file_extension": ".py",
   "mimetype": "text/x-python",
   "name": "python",
   "nbconvert_exporter": "python",
   "pygments_lexer": "ipython3",
   "version": "3.8.10"
  },
  "mimetype": "text/x-python",
  "name": "python",
  "npconvert_exporter": "python",
  "pygments_lexer": "ipython3",
  "version": 3
 },
 "nbformat": 4,
 "nbformat_minor": 4
}

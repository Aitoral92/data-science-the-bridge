{
  "nbformat": 4,
  "nbformat_minor": 0,
  "metadata": {
    "colab": {
      "name": "algorithm_basics.ipynb",
      "provenance": []
    },
    "kernelspec": {
      "name": "python3",
      "display_name": "Python 3"
    },
    "language_info": {
      "name": "python"
    }
  },
  "cells": [
    {
      "cell_type": "markdown",
      "source": [
        "### Chapter 1: Getting started with algorithms\n",
        "####A sample algorithmic problem\n",
        "\n",
        "An algorithmic problem is specified by describing the complete set of instances it must work on and of its output\n",
        "after running on one of these instances. This distinction, between a problem and an instance of a problem, is\n",
        "fundamental. The algorithmic problem known as sorting is defined as follows: [Skiena:2008:ADM:1410219]  \n",
        "\n",
        "\n",
        "**Problem**: Sorting  \n",
        "**Input**: A sequence of n keys, a_1, a_2, ..., a_n.  \n",
        "**Output**: The reordering of the input sequence such that a'_1 <= a'_2 <= ... <= a'_{n-1} <= a'_n\n",
        "\n",
        "\n",
        "An instance of sorting might be an array of strings, such as **{ Haskell, Emacs }**   \n",
        "or a sequence of numbers such as\n",
        "**{ 154, 245, 1337 }**."
      ],
      "metadata": {
        "id": "Pz4yNnL82UN5"
      }
    },
    {
      "cell_type": "markdown",
      "source": [
        "#### Getting Started with Simple Fizz Buzz Algorithm\n",
        "\n",
        "In this notebbok, we will discuss a simple solution for implementing algorithms.\n",
        "\n",
        "\n",
        "#### Fizz Buzz\n",
        "\n",
        "\n",
        "You may have seen Fizz Buzz written as Fizz Buzz, FizzBuzz, or Fizz-Buzz; they're all referring to the same thing. That\n",
        "\"thing\" is the main topic of discussion today. First, what is FizzBuzz?\n",
        "This is a common question that comes up in job interviews.  \n",
        "\n",
        "\n",
        "Imagine a series of a number from 1 to 10."
      ],
      "metadata": {
        "id": "YdSO9W9Q4JSo"
      }
    },
    {
      "cell_type": "markdown",
      "source": [
        "`0 1 2 3 4 5 6 7 8 9 10`"
      ],
      "metadata": {
        "id": "-HwnEYPF6Jur"
      }
    },
    {
      "cell_type": "markdown",
      "source": [
        "Fizz and Buzz refer to any number that's a multiple of 3 and 5 respectively. \n",
        "\n",
        "In other words, if a number is divisible by 3, it is substituted with fizz; if a number is divisible by 5, it is substituted with buzz. If a number is simultaneously a multiple of 3 AND 5, the number is replaced with \"fizz buzz.\" In essence, it emulates the famous children game\n",
        "\"fizz buzz\"."
      ],
      "metadata": {
        "id": "8uPUdp2h46uu"
      }
    },
    {
      "cell_type": "markdown",
      "source": [
        "#### The Fizz Buzz Coding Challenge :\n",
        "*“Write a program that prints the numbers from 1 to 100. But for multiples of three print “Fizz” instead of the number and for the multiples of five print “Buzz”. For numbers which are multiples of both three and five print “FizzBuzz”.”*"
      ],
      "metadata": {
        "id": "jaPV5ygT5S16"
      }
    },
    {
      "cell_type": "markdown",
      "source": [
        "\n",
        "```\n",
        "fizzbuzz  \n",
        "1  \n",
        "2  \n",
        "fizz  \n",
        "4  \n",
        "buzz  \n",
        "fizz  \n",
        "7  \n",
        "8  \n",
        "fizz  \n",
        "buzz\n",
        "```\n",
        "\n",
        "\n",
        "\n",
        "\n",
        "\n"
      ],
      "metadata": {
        "id": "pXQuELJ26GZC"
      }
    },
    {
      "cell_type": "code",
      "source": [
        ""
      ],
      "metadata": {
        "id": "fAIbgCYM5R_N"
      },
      "execution_count": null,
      "outputs": []
    }
  ]
}
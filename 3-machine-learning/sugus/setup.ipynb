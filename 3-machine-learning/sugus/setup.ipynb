{
 "cells": [
  {
   "cell_type": "code",
   "execution_count": 91,
   "metadata": {},
   "outputs": [
    {
     "name": "stdout",
     "output_type": "stream",
     "text": [
      "Found existing installation: xlrd 2.0.1\n",
      "Uninstalling xlrd-2.0.1:\n",
      "  Would remove:\n",
      "    /home/personal/.local/bin/runxlrd.py\n",
      "    /home/personal/.local/lib/python3.8/site-packages/xlrd-2.0.1.dist-info/*\n",
      "    /home/personal/.local/lib/python3.8/site-packages/xlrd/*\n",
      "Proceed (y/n)? ^C\n",
      "\u001b[31mERROR: Operation cancelled by user\u001b[0m\n"
     ]
    }
   ],
   "source": [
    "!pip3 uninstall xlrd"
   ]
  },
  {
   "cell_type": "code",
   "execution_count": 87,
   "metadata": {},
   "outputs": [],
   "source": [
    "import pandas as pd\n",
    "import numpy as np\n",
    "import sqlite3\n",
    "import requests"
   ]
  },
  {
   "cell_type": "code",
   "execution_count": 88,
   "metadata": {},
   "outputs": [],
   "source": [
    "xls_path = \"data/nombres_por_edad_media.xls\""
   ]
  },
  {
   "cell_type": "code",
   "execution_count": 92,
   "metadata": {},
   "outputs": [
    {
     "name": "stdout",
     "output_type": "stream",
     "text": [
      "['Hombres', 'Mujeres']\n"
     ]
    }
   ],
   "source": [
    "xl = pd.ExcelFile(xls_path)\n",
    "sheets_lst = xl.sheet_names\n",
    "print(sheets_lst)"
   ]
  },
  {
   "cell_type": "code",
   "execution_count": 93,
   "metadata": {},
   "outputs": [],
   "source": [
    "test_name_df = pd.read_excel(\n",
    "    xls_path, sheet_name = sheets_lst[1], skiprows = 6)"
   ]
  },
  {
   "cell_type": "code",
   "execution_count": 94,
   "metadata": {},
   "outputs": [
    {
     "data": {
      "text/html": [
       "<div>\n",
       "<style scoped>\n",
       "    .dataframe tbody tr th:only-of-type {\n",
       "        vertical-align: middle;\n",
       "    }\n",
       "\n",
       "    .dataframe tbody tr th {\n",
       "        vertical-align: top;\n",
       "    }\n",
       "\n",
       "    .dataframe thead th {\n",
       "        text-align: right;\n",
       "    }\n",
       "</style>\n",
       "<table border=\"1\" class=\"dataframe\">\n",
       "  <thead>\n",
       "    <tr style=\"text-align: right;\">\n",
       "      <th></th>\n",
       "      <th>Orden</th>\n",
       "      <th>Nombre</th>\n",
       "      <th>Frecuencia</th>\n",
       "      <th>Edad Media (*)</th>\n",
       "    </tr>\n",
       "  </thead>\n",
       "  <tbody>\n",
       "    <tr>\n",
       "      <th>0</th>\n",
       "      <td>1</td>\n",
       "      <td>MARIA CARMEN</td>\n",
       "      <td>641875</td>\n",
       "      <td>59.5</td>\n",
       "    </tr>\n",
       "    <tr>\n",
       "      <th>1</th>\n",
       "      <td>2</td>\n",
       "      <td>MARIA</td>\n",
       "      <td>578124</td>\n",
       "      <td>48.4</td>\n",
       "    </tr>\n",
       "    <tr>\n",
       "      <th>2</th>\n",
       "      <td>3</td>\n",
       "      <td>CARMEN</td>\n",
       "      <td>366259</td>\n",
       "      <td>60.5</td>\n",
       "    </tr>\n",
       "    <tr>\n",
       "      <th>3</th>\n",
       "      <td>4</td>\n",
       "      <td>ANA MARIA</td>\n",
       "      <td>269814</td>\n",
       "      <td>53.6</td>\n",
       "    </tr>\n",
       "    <tr>\n",
       "      <th>4</th>\n",
       "      <td>5</td>\n",
       "      <td>MARIA PILAR</td>\n",
       "      <td>258063</td>\n",
       "      <td>59.4</td>\n",
       "    </tr>\n",
       "  </tbody>\n",
       "</table>\n",
       "</div>"
      ],
      "text/plain": [
       "   Orden        Nombre  Frecuencia  Edad Media (*)\n",
       "0      1  MARIA CARMEN      641875            59.5\n",
       "1      2         MARIA      578124            48.4\n",
       "2      3        CARMEN      366259            60.5\n",
       "3      4     ANA MARIA      269814            53.6\n",
       "4      5   MARIA PILAR      258063            59.4"
      ]
     },
     "execution_count": 94,
     "metadata": {},
     "output_type": "execute_result"
    }
   ],
   "source": [
    "test_name_df.head(5)"
   ]
  },
  {
   "cell_type": "code",
   "execution_count": 95,
   "metadata": {},
   "outputs": [],
   "source": [
    "columns = [\"name\", \"freq\", \"avg_age\"]\n",
    "test_name_df = test_name_df.drop(columns = [\"Orden\"])\n",
    "test_name_df.columns = columns\n",
    "test_name_df[\"name\"] = test_name_df[\"name\"].str.upper().str.strip()"
   ]
  },
  {
   "cell_type": "code",
   "execution_count": 96,
   "metadata": {},
   "outputs": [
    {
     "data": {
      "text/html": [
       "<div>\n",
       "<style scoped>\n",
       "    .dataframe tbody tr th:only-of-type {\n",
       "        vertical-align: middle;\n",
       "    }\n",
       "\n",
       "    .dataframe tbody tr th {\n",
       "        vertical-align: top;\n",
       "    }\n",
       "\n",
       "    .dataframe thead th {\n",
       "        text-align: right;\n",
       "    }\n",
       "</style>\n",
       "<table border=\"1\" class=\"dataframe\">\n",
       "  <thead>\n",
       "    <tr style=\"text-align: right;\">\n",
       "      <th></th>\n",
       "      <th>name</th>\n",
       "      <th>freq</th>\n",
       "      <th>avg_age</th>\n",
       "    </tr>\n",
       "  </thead>\n",
       "  <tbody>\n",
       "    <tr>\n",
       "      <th>0</th>\n",
       "      <td>MARIA CARMEN</td>\n",
       "      <td>641875</td>\n",
       "      <td>59.5</td>\n",
       "    </tr>\n",
       "    <tr>\n",
       "      <th>1</th>\n",
       "      <td>MARIA</td>\n",
       "      <td>578124</td>\n",
       "      <td>48.4</td>\n",
       "    </tr>\n",
       "    <tr>\n",
       "      <th>2</th>\n",
       "      <td>CARMEN</td>\n",
       "      <td>366259</td>\n",
       "      <td>60.5</td>\n",
       "    </tr>\n",
       "    <tr>\n",
       "      <th>3</th>\n",
       "      <td>ANA MARIA</td>\n",
       "      <td>269814</td>\n",
       "      <td>53.6</td>\n",
       "    </tr>\n",
       "    <tr>\n",
       "      <th>4</th>\n",
       "      <td>MARIA PILAR</td>\n",
       "      <td>258063</td>\n",
       "      <td>59.4</td>\n",
       "    </tr>\n",
       "  </tbody>\n",
       "</table>\n",
       "</div>"
      ],
      "text/plain": [
       "           name    freq  avg_age\n",
       "0  MARIA CARMEN  641875     59.5\n",
       "1         MARIA  578124     48.4\n",
       "2        CARMEN  366259     60.5\n",
       "3     ANA MARIA  269814     53.6\n",
       "4   MARIA PILAR  258063     59.4"
      ]
     },
     "execution_count": 96,
     "metadata": {},
     "output_type": "execute_result"
    }
   ],
   "source": [
    "test_name_df.head()"
   ]
  },
  {
   "cell_type": "code",
   "execution_count": 60,
   "metadata": {},
   "outputs": [],
   "source": [
    "def load_and_clean_names_xls(gender_str):\n",
    "    columns = [\"name\", \"freq\", \"avg_age\"]\n",
    "    if gender_str == 'M':\n",
    "        sheet_idx = 0\n",
    "    elif gender_str == 'F':\n",
    "        sheet_idx = 1\n",
    "    else:\n",
    "        sheet_idx = None\n",
    "    df = pd.read_excel(\n",
    "        xls_path, sheet_name = sheets_lst[sheet_idx], skiprows = 6)\n",
    "    df = df.drop(columns = [\"Orden\"])\n",
    "    df.columns = columns\n",
    "    df[\"name\"] = df[\"name\"].str.upper().str.strip()\n",
    "    return df"
   ]
  },
  {
   "cell_type": "code",
   "execution_count": 61,
   "metadata": {},
   "outputs": [],
   "source": [
    "female_name_df = load_and_clean_names_xls(\"F\")\n",
    "male_name_df = load_and_clean_names_xls(\"M\")"
   ]
  },
  {
   "cell_type": "code",
   "execution_count": 62,
   "metadata": {},
   "outputs": [
    {
     "data": {
      "text/html": [
       "<div>\n",
       "<style scoped>\n",
       "    .dataframe tbody tr th:only-of-type {\n",
       "        vertical-align: middle;\n",
       "    }\n",
       "\n",
       "    .dataframe tbody tr th {\n",
       "        vertical-align: top;\n",
       "    }\n",
       "\n",
       "    .dataframe thead th {\n",
       "        text-align: right;\n",
       "    }\n",
       "</style>\n",
       "<table border=\"1\" class=\"dataframe\">\n",
       "  <thead>\n",
       "    <tr style=\"text-align: right;\">\n",
       "      <th></th>\n",
       "      <th>name</th>\n",
       "      <th>freq</th>\n",
       "      <th>avg_age</th>\n",
       "    </tr>\n",
       "  </thead>\n",
       "  <tbody>\n",
       "    <tr>\n",
       "      <th>0</th>\n",
       "      <td>MARIA CARMEN</td>\n",
       "      <td>641875</td>\n",
       "      <td>59.5</td>\n",
       "    </tr>\n",
       "    <tr>\n",
       "      <th>1</th>\n",
       "      <td>MARIA</td>\n",
       "      <td>578124</td>\n",
       "      <td>48.4</td>\n",
       "    </tr>\n",
       "    <tr>\n",
       "      <th>2</th>\n",
       "      <td>CARMEN</td>\n",
       "      <td>366259</td>\n",
       "      <td>60.5</td>\n",
       "    </tr>\n",
       "    <tr>\n",
       "      <th>3</th>\n",
       "      <td>ANA MARIA</td>\n",
       "      <td>269814</td>\n",
       "      <td>53.6</td>\n",
       "    </tr>\n",
       "    <tr>\n",
       "      <th>4</th>\n",
       "      <td>MARIA PILAR</td>\n",
       "      <td>258063</td>\n",
       "      <td>59.4</td>\n",
       "    </tr>\n",
       "  </tbody>\n",
       "</table>\n",
       "</div>"
      ],
      "text/plain": [
       "           name    freq  avg_age\n",
       "0  MARIA CARMEN  641875     59.5\n",
       "1         MARIA  578124     48.4\n",
       "2        CARMEN  366259     60.5\n",
       "3     ANA MARIA  269814     53.6\n",
       "4   MARIA PILAR  258063     59.4"
      ]
     },
     "execution_count": 62,
     "metadata": {},
     "output_type": "execute_result"
    }
   ],
   "source": [
    "female_name_df.head()"
   ]
  },
  {
   "cell_type": "code",
   "execution_count": 63,
   "metadata": {},
   "outputs": [
    {
     "data": {
      "text/html": [
       "<div>\n",
       "<style scoped>\n",
       "    .dataframe tbody tr th:only-of-type {\n",
       "        vertical-align: middle;\n",
       "    }\n",
       "\n",
       "    .dataframe tbody tr th {\n",
       "        vertical-align: top;\n",
       "    }\n",
       "\n",
       "    .dataframe thead th {\n",
       "        text-align: right;\n",
       "    }\n",
       "</style>\n",
       "<table border=\"1\" class=\"dataframe\">\n",
       "  <thead>\n",
       "    <tr style=\"text-align: right;\">\n",
       "      <th></th>\n",
       "      <th>name</th>\n",
       "      <th>freq</th>\n",
       "      <th>avg_age</th>\n",
       "    </tr>\n",
       "  </thead>\n",
       "  <tbody>\n",
       "    <tr>\n",
       "      <th>0</th>\n",
       "      <td>ANTONIO</td>\n",
       "      <td>640854</td>\n",
       "      <td>57.1</td>\n",
       "    </tr>\n",
       "    <tr>\n",
       "      <th>1</th>\n",
       "      <td>MANUEL</td>\n",
       "      <td>562798</td>\n",
       "      <td>55.7</td>\n",
       "    </tr>\n",
       "    <tr>\n",
       "      <th>2</th>\n",
       "      <td>JOSE</td>\n",
       "      <td>547142</td>\n",
       "      <td>62.1</td>\n",
       "    </tr>\n",
       "    <tr>\n",
       "      <th>3</th>\n",
       "      <td>FRANCISCO</td>\n",
       "      <td>467933</td>\n",
       "      <td>58.7</td>\n",
       "    </tr>\n",
       "    <tr>\n",
       "      <th>4</th>\n",
       "      <td>DAVID</td>\n",
       "      <td>369633</td>\n",
       "      <td>32.9</td>\n",
       "    </tr>\n",
       "  </tbody>\n",
       "</table>\n",
       "</div>"
      ],
      "text/plain": [
       "        name    freq  avg_age\n",
       "0    ANTONIO  640854     57.1\n",
       "1     MANUEL  562798     55.7\n",
       "2       JOSE  547142     62.1\n",
       "3  FRANCISCO  467933     58.7\n",
       "4      DAVID  369633     32.9"
      ]
     },
     "execution_count": 63,
     "metadata": {},
     "output_type": "execute_result"
    }
   ],
   "source": [
    "male_name_df.head()"
   ]
  },
  {
   "cell_type": "code",
   "execution_count": 64,
   "metadata": {},
   "outputs": [],
   "source": [
    "name_df = pd.merge(\n",
    "    female_name_df.set_index(\"name\"), \n",
    "    male_name_df.set_index(\"name\"), \n",
    "    on = [\"name\"],  \n",
    "    how = \"outer\",\n",
    "    suffixes=('_f', '_m'))"
   ]
  },
  {
   "cell_type": "code",
   "execution_count": 65,
   "metadata": {},
   "outputs": [
    {
     "data": {
      "text/html": [
       "<div>\n",
       "<style scoped>\n",
       "    .dataframe tbody tr th:only-of-type {\n",
       "        vertical-align: middle;\n",
       "    }\n",
       "\n",
       "    .dataframe tbody tr th {\n",
       "        vertical-align: top;\n",
       "    }\n",
       "\n",
       "    .dataframe thead th {\n",
       "        text-align: right;\n",
       "    }\n",
       "</style>\n",
       "<table border=\"1\" class=\"dataframe\">\n",
       "  <thead>\n",
       "    <tr style=\"text-align: right;\">\n",
       "      <th></th>\n",
       "      <th>freq_f</th>\n",
       "      <th>avg_age_f</th>\n",
       "      <th>freq_m</th>\n",
       "      <th>avg_age_m</th>\n",
       "    </tr>\n",
       "    <tr>\n",
       "      <th>name</th>\n",
       "      <th></th>\n",
       "      <th></th>\n",
       "      <th></th>\n",
       "      <th></th>\n",
       "    </tr>\n",
       "  </thead>\n",
       "  <tbody>\n",
       "    <tr>\n",
       "      <th>MARIA CARMEN</th>\n",
       "      <td>641875.0</td>\n",
       "      <td>59.5</td>\n",
       "      <td>NaN</td>\n",
       "      <td>NaN</td>\n",
       "    </tr>\n",
       "    <tr>\n",
       "      <th>MARIA</th>\n",
       "      <td>578124.0</td>\n",
       "      <td>48.4</td>\n",
       "      <td>183.0</td>\n",
       "      <td>55.4</td>\n",
       "    </tr>\n",
       "    <tr>\n",
       "      <th>CARMEN</th>\n",
       "      <td>366259.0</td>\n",
       "      <td>60.5</td>\n",
       "      <td>NaN</td>\n",
       "      <td>NaN</td>\n",
       "    </tr>\n",
       "    <tr>\n",
       "      <th>ANA MARIA</th>\n",
       "      <td>269814.0</td>\n",
       "      <td>53.6</td>\n",
       "      <td>NaN</td>\n",
       "      <td>NaN</td>\n",
       "    </tr>\n",
       "    <tr>\n",
       "      <th>MARIA PILAR</th>\n",
       "      <td>258063.0</td>\n",
       "      <td>59.4</td>\n",
       "      <td>NaN</td>\n",
       "      <td>NaN</td>\n",
       "    </tr>\n",
       "  </tbody>\n",
       "</table>\n",
       "</div>"
      ],
      "text/plain": [
       "                freq_f  avg_age_f  freq_m  avg_age_m\n",
       "name                                                \n",
       "MARIA CARMEN  641875.0       59.5     NaN        NaN\n",
       "MARIA         578124.0       48.4   183.0       55.4\n",
       "CARMEN        366259.0       60.5     NaN        NaN\n",
       "ANA MARIA     269814.0       53.6     NaN        NaN\n",
       "MARIA PILAR   258063.0       59.4     NaN        NaN"
      ]
     },
     "execution_count": 65,
     "metadata": {},
     "output_type": "execute_result"
    }
   ],
   "source": [
    "name_df.head()"
   ]
  },
  {
   "cell_type": "code",
   "execution_count": 66,
   "metadata": {},
   "outputs": [],
   "source": [
    "name_df[\"freq_f\"] = name_df[\"freq_f\"].fillna(0)\n",
    "name_df[\"freq_m\"] = name_df[\"freq_m\"].fillna(0)\n",
    "name_df[\"prob_f\"] = name_df[\"freq_f\"] / (name_df[\"freq_f\"] + name_df[\"freq_m\"])\n",
    "name_df[\"prob_m\"] = name_df[\"freq_m\"] / (name_df[\"freq_f\"] + name_df[\"freq_m\"])\n",
    "name_df[\"gender\"] = np.where(name_df[\"prob_f\"] >= 0.5, \"F\", \"M\")"
   ]
  },
  {
   "cell_type": "code",
   "execution_count": 67,
   "metadata": {},
   "outputs": [],
   "source": [
    "name_basics_df = name_df[[\"prob_f\", \"prob_m\", \"gender\"]]"
   ]
  },
  {
   "cell_type": "code",
   "execution_count": 68,
   "metadata": {},
   "outputs": [
    {
     "data": {
      "text/html": [
       "<div>\n",
       "<style scoped>\n",
       "    .dataframe tbody tr th:only-of-type {\n",
       "        vertical-align: middle;\n",
       "    }\n",
       "\n",
       "    .dataframe tbody tr th {\n",
       "        vertical-align: top;\n",
       "    }\n",
       "\n",
       "    .dataframe thead th {\n",
       "        text-align: right;\n",
       "    }\n",
       "</style>\n",
       "<table border=\"1\" class=\"dataframe\">\n",
       "  <thead>\n",
       "    <tr style=\"text-align: right;\">\n",
       "      <th></th>\n",
       "      <th>prob_f</th>\n",
       "      <th>prob_m</th>\n",
       "      <th>gender</th>\n",
       "    </tr>\n",
       "    <tr>\n",
       "      <th>name</th>\n",
       "      <th></th>\n",
       "      <th></th>\n",
       "      <th></th>\n",
       "    </tr>\n",
       "  </thead>\n",
       "  <tbody>\n",
       "    <tr>\n",
       "      <th>IVAN LUIS</th>\n",
       "      <td>0.0</td>\n",
       "      <td>1.0</td>\n",
       "      <td>M</td>\n",
       "    </tr>\n",
       "    <tr>\n",
       "      <th>LESTER ANTONIO</th>\n",
       "      <td>0.0</td>\n",
       "      <td>1.0</td>\n",
       "      <td>M</td>\n",
       "    </tr>\n",
       "    <tr>\n",
       "      <th>STEPHANIE</th>\n",
       "      <td>1.0</td>\n",
       "      <td>0.0</td>\n",
       "      <td>F</td>\n",
       "    </tr>\n",
       "    <tr>\n",
       "      <th>JOSSELYN</th>\n",
       "      <td>1.0</td>\n",
       "      <td>0.0</td>\n",
       "      <td>F</td>\n",
       "    </tr>\n",
       "    <tr>\n",
       "      <th>DUGUNEH</th>\n",
       "      <td>0.0</td>\n",
       "      <td>1.0</td>\n",
       "      <td>M</td>\n",
       "    </tr>\n",
       "  </tbody>\n",
       "</table>\n",
       "</div>"
      ],
      "text/plain": [
       "                prob_f  prob_m gender\n",
       "name                                 \n",
       "IVAN LUIS          0.0     1.0      M\n",
       "LESTER ANTONIO     0.0     1.0      M\n",
       "STEPHANIE          1.0     0.0      F\n",
       "JOSSELYN           1.0     0.0      F\n",
       "DUGUNEH            0.0     1.0      M"
      ]
     },
     "execution_count": 68,
     "metadata": {},
     "output_type": "execute_result"
    }
   ],
   "source": [
    "name_basics_df.sample(5)"
   ]
  },
  {
   "cell_type": "code",
   "execution_count": 69,
   "metadata": {},
   "outputs": [],
   "source": [
    "name_basics_df.to_csv(\"data/names_master.csv\")"
   ]
  },
  {
   "cell_type": "code",
   "execution_count": 70,
   "metadata": {},
   "outputs": [],
   "source": [
    "#!pip3 install django djangorestframework markdown django-filter"
   ]
  },
  {
   "cell_type": "code",
   "execution_count": 71,
   "metadata": {},
   "outputs": [
    {
     "name": "stdout",
     "output_type": "stream",
     "text": [
      "('django_migrations',)\n",
      "('sqlite_sequence',)\n",
      "('auth_group_permissions',)\n",
      "('auth_user_groups',)\n",
      "('auth_user_user_permissions',)\n",
      "('django_admin_log',)\n",
      "('django_content_type',)\n",
      "('auth_permission',)\n",
      "('auth_group',)\n",
      "('auth_user',)\n",
      "('django_session',)\n",
      "('web_name',)\n"
     ]
    }
   ],
   "source": [
    "sqliteConnection = sqlite3.connect('db.sqlite3')\n",
    "cursor = sqliteConnection.cursor()\n",
    "\n",
    "sqlite_select_Query = \"\"\"\n",
    "    SELECT name\n",
    "    FROM sqlite_master\n",
    "    WHERE type ='table';\n",
    "\"\"\"\n",
    "cursor.execute(sqlite_select_Query)\n",
    "record = cursor.fetchall()\n",
    "for r in record:\n",
    "    print(r)\n",
    "cursor.close()"
   ]
  },
  {
   "cell_type": "code",
   "execution_count": 72,
   "metadata": {},
   "outputs": [
    {
     "name": "stdout",
     "output_type": "stream",
     "text": [
      "(0, 'id', 'integer', 1, None, 1)\n",
      "(1, 'text', 'varchar(255)', 1, None, 0)\n",
      "(2, 'prob_f', 'real', 1, None, 0)\n",
      "(3, 'prob_m', 'real', 1, None, 0)\n",
      "(4, 'gender', 'varchar(255)', 1, None, 0)\n",
      "(5, 'pub_date', 'datetime', 0, None, 0)\n"
     ]
    }
   ],
   "source": [
    "cursor = sqliteConnection.cursor()\n",
    "sqlite_select_Query = \"\"\"\n",
    "    PRAGMA table_info([web_name]);\n",
    "\"\"\"\n",
    "cursor.execute(sqlite_select_Query)\n",
    "record = cursor.fetchall()\n",
    "for r in record:\n",
    "    print(r)\n",
    "cursor.close()"
   ]
  },
  {
   "cell_type": "code",
   "execution_count": 73,
   "metadata": {},
   "outputs": [
    {
     "name": "stdout",
     "output_type": "stream",
     "text": [
      "(36580, 'MARIA CARMEN', 1.0, 0.0, 'F', None)\n",
      "(36581, 'MARIA', 0.9996835590784825, 0.0003164409215174639, 'F', None)\n",
      "(36582, 'CARMEN', 1.0, 0.0, 'F', None)\n",
      "(36583, 'ANA MARIA', 1.0, 0.0, 'F', None)\n",
      "(36584, 'MARIA PILAR', 1.0, 0.0, 'F', None)\n"
     ]
    }
   ],
   "source": [
    "cursor = sqliteConnection.cursor()\n",
    "sqlite_select_Query = \"\"\"\n",
    "    SELECT * \n",
    "    FROM web_name\n",
    "    LIMIT 5;\n",
    "\"\"\"\n",
    "cursor.execute(sqlite_select_Query)\n",
    "record = cursor.fetchall()\n",
    "for r in record:\n",
    "    print(r)\n",
    "cursor.close()"
   ]
  },
  {
   "cell_type": "code",
   "execution_count": 84,
   "metadata": {},
   "outputs": [
    {
     "name": "stdout",
     "output_type": "stream",
     "text": [
      "Example query:\n",
      "\n",
      "        INSERT INTO web_name \n",
      "            (text, prob_f, prob_m, gender)\n",
      "            VALUES ('MARIA CARMEN', 1.0, 0.0, 'F');\n",
      "        \n"
     ]
    }
   ],
   "source": [
    "cursor = sqliteConnection.cursor()\n",
    "\n",
    "for index, row in name_basics_df.reset_index().iterrows():\n",
    "    name = str(row[\"name\"]).replace(\"'\", \" \")  \n",
    "    prob_f = row[\"prob_f\"]\n",
    "    prob_m = row[\"prob_m\"]\n",
    "    gender = row[\"gender\"]    \n",
    "\n",
    "    insert_into_name = \"\"\"\n",
    "        INSERT INTO web_name \n",
    "            (text, prob_f, prob_m, gender)\n",
    "            VALUES ('{0}', {1}, {2}, '{3}');\n",
    "        \"\"\".format(name, prob_f, prob_m, gender) \n",
    "    if index == 0:\n",
    "        print(\"Example query:\")\n",
    "        print(insert_into_name)\n",
    "    try:\n",
    "        cursor.execute(insert_into_name)\n",
    "    except:\n",
    "        print(insert_into_name)\n",
    "    sqliteConnection.commit()  \n",
    "\n",
    "cursor.close()"
   ]
  },
  {
   "cell_type": "code",
   "execution_count": 83,
   "metadata": {},
   "outputs": [],
   "source": [
    "cursor = sqliteConnection.cursor()\n",
    "sqlite_select_Query = \"\"\"\n",
    "    SELECT * \n",
    "    FROM web_name\n",
    "    LIMIT 5;\n",
    "\"\"\"\n",
    "cursor.execute(sqlite_select_Query)\n",
    "record = cursor.fetchall()\n",
    "for r in record:\n",
    "    print(r)\n",
    "cursor.close()"
   ]
  },
  {
   "cell_type": "code",
   "execution_count": 75,
   "metadata": {},
   "outputs": [],
   "source": [
    "response = requests.get(\"http://127.0.0.1:8000/api/names/GUSTAVO/\")"
   ]
  },
  {
   "cell_type": "code",
   "execution_count": 76,
   "metadata": {},
   "outputs": [
    {
     "name": "stdout",
     "output_type": "stream",
     "text": [
      "200\n"
     ]
    }
   ],
   "source": [
    "print(response.status_code)"
   ]
  },
  {
   "cell_type": "code",
   "execution_count": 80,
   "metadata": {},
   "outputs": [
    {
     "name": "stdout",
     "output_type": "stream",
     "text": [
      "{'text': 'GUSTAVO', 'prob_f': 0.0, 'prob_m': 1.0, 'gender': 'M'}\n"
     ]
    }
   ],
   "source": [
    "print(response.json())"
   ]
  },
  {
   "cell_type": "code",
   "execution_count": 81,
   "metadata": {},
   "outputs": [
    {
     "name": "stdout",
     "output_type": "stream",
     "text": [
      "GUSTAVO\n"
     ]
    }
   ],
   "source": [
    "print(response.json()['text'])"
   ]
  }
 ],
 "metadata": {
  "kernelspec": {
   "display_name": "Python 3.8.10 64-bit",
   "language": "python",
   "name": "python3"
  },
  "language_info": {
   "codemirror_mode": {
    "name": "ipython",
    "version": 3
   },
   "file_extension": ".py",
   "mimetype": "text/x-python",
   "name": "python",
   "nbconvert_exporter": "python",
   "pygments_lexer": "ipython3",
   "version": "3.8.10"
  },
  "orig_nbformat": 4,
  "vscode": {
   "interpreter": {
    "hash": "916dbcbb3f70747c44a77c7bcd40155683ae19c65e1c03b4aa3499c5328201f1"
   }
  }
 },
 "nbformat": 4,
 "nbformat_minor": 2
}

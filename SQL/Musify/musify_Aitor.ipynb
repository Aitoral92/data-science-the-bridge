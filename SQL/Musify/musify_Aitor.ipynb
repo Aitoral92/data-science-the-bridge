{
 "cells": [
  {
   "cell_type": "markdown",
   "metadata": {},
   "source": [
    "This Database holds information about a music store. For this project, you will be assisting the Chinook team with understanding the media in their store, their customers and employees, and their invoice information. To assist you in the queries ahead, the schema for the Database is provided below. You can see the columns that link tables together via the arrows."
   ]
  },
  {
   "cell_type": "code",
   "execution_count": 29,
   "metadata": {},
   "outputs": [],
   "source": [
    "# pip install sqlalchemy"
   ]
  },
  {
   "cell_type": "code",
   "execution_count": 30,
   "metadata": {},
   "outputs": [],
   "source": [
    "# pip install ipython-sql"
   ]
  },
  {
   "cell_type": "code",
   "execution_count": 10,
   "metadata": {},
   "outputs": [],
   "source": [
    "import sqlite3\n",
    "import sqlalchemy\n",
    "import matplotlib.pyplot as plt\n",
    "\n",
    "conn = sqlite3.connect(\"chinook.sqlite\")"
   ]
  },
  {
   "cell_type": "code",
   "execution_count": 23,
   "metadata": {},
   "outputs": [
    {
     "data": {
      "text/plain": [
       "Engine(sqlite:///chinook.sqlite)"
      ]
     },
     "execution_count": 23,
     "metadata": {},
     "output_type": "execute_result"
    }
   ],
   "source": [
    "sqlalchemy.create_engine(\"sqlite:///chinook.sqlite\")"
   ]
  },
  {
   "cell_type": "code",
   "execution_count": 31,
   "metadata": {},
   "outputs": [],
   "source": [
    "%load_ext sql"
   ]
  },
  {
   "cell_type": "code",
   "execution_count": 36,
   "metadata": {},
   "outputs": [],
   "source": [
    "%sql sqlite:///chinook.sqlite"
   ]
  },
  {
   "cell_type": "markdown",
   "metadata": {},
   "source": [
    "This Database holds information about a music store. For this project, you will be assisting the Chinook team with understanding the media in their store, their customers and employees, and their invoice information. To assist you in the queries ahead, the schema for the Database is provided below. You can see the columns that link tables together via the arrows."
   ]
  },
  {
   "cell_type": "markdown",
   "metadata": {},
   "source": [
    "veamos las tablas que tenemos en el dataset:\n"
   ]
  },
  {
   "cell_type": "code",
   "execution_count": 38,
   "metadata": {},
   "outputs": [
    {
     "name": "stdout",
     "output_type": "stream",
     "text": [
      " * sqlite:///chinook.sqlite\n",
      "Done.\n"
     ]
    },
    {
     "data": {
      "text/html": [
       "<table>\n",
       "    <tr>\n",
       "        <th>name</th>\n",
       "    </tr>\n",
       "    <tr>\n",
       "        <td>Album</td>\n",
       "    </tr>\n",
       "    <tr>\n",
       "        <td>Artist</td>\n",
       "    </tr>\n",
       "    <tr>\n",
       "        <td>Customer</td>\n",
       "    </tr>\n",
       "    <tr>\n",
       "        <td>Employee</td>\n",
       "    </tr>\n",
       "    <tr>\n",
       "        <td>Genre</td>\n",
       "    </tr>\n",
       "    <tr>\n",
       "        <td>Invoice</td>\n",
       "    </tr>\n",
       "    <tr>\n",
       "        <td>InvoiceLine</td>\n",
       "    </tr>\n",
       "    <tr>\n",
       "        <td>MediaType</td>\n",
       "    </tr>\n",
       "    <tr>\n",
       "        <td>Playlist</td>\n",
       "    </tr>\n",
       "    <tr>\n",
       "        <td>PlaylistTrack</td>\n",
       "    </tr>\n",
       "    <tr>\n",
       "        <td>Track</td>\n",
       "    </tr>\n",
       "</table>"
      ],
      "text/plain": [
       "[('Album',),\n",
       " ('Artist',),\n",
       " ('Customer',),\n",
       " ('Employee',),\n",
       " ('Genre',),\n",
       " ('Invoice',),\n",
       " ('InvoiceLine',),\n",
       " ('MediaType',),\n",
       " ('Playlist',),\n",
       " ('PlaylistTrack',),\n",
       " ('Track',)]"
      ]
     },
     "execution_count": 38,
     "metadata": {},
     "output_type": "execute_result"
    }
   ],
   "source": [
    "%%sql\n",
    "\n",
    "SELECT name\n",
    "FROM sqlite_master \n",
    "WHERE type='table'"
   ]
  },
  {
   "cell_type": "markdown",
   "metadata": {},
   "source": [
    "## Tarea 1:\n",
    "\n",
    "Which countries have the most Invoices? <br>\n",
    "Use the Invoice table to determine the countries that have the most invoices.<br>\n",
    "Provide a table of BillingCountry and Invoices ordered by the number of invoices for each country. <br>\n",
    "The country with the most invoices should appear first."
   ]
  },
  {
   "cell_type": "markdown",
   "metadata": {},
   "source": [
    "### Which countries have the most Invoices? Use the Invoice table to determine the countries that have the most invoices."
   ]
  },
  {
   "cell_type": "code",
   "execution_count": 50,
   "metadata": {},
   "outputs": [
    {
     "name": "stdout",
     "output_type": "stream",
     "text": [
      " * sqlite:///chinook.sqlite\n",
      "Done.\n"
     ]
    },
    {
     "data": {
      "text/html": [
       "<table>\n",
       "    <tr>\n",
       "        <th>InvoiceId</th>\n",
       "        <th>CustomerId</th>\n",
       "        <th>InvoiceDate</th>\n",
       "        <th>BillingAddress</th>\n",
       "        <th>BillingCity</th>\n",
       "        <th>BillingState</th>\n",
       "        <th>BillingCountry</th>\n",
       "        <th>BillingPostalCode</th>\n",
       "        <th>Total</th>\n",
       "    </tr>\n",
       "    <tr>\n",
       "        <td>1</td>\n",
       "        <td>2</td>\n",
       "        <td>2007-01-01 00:00:00</td>\n",
       "        <td>Theodor-Heuss-Straße 34</td>\n",
       "        <td>Stuttgart</td>\n",
       "        <td>None</td>\n",
       "        <td>Germany</td>\n",
       "        <td>70174</td>\n",
       "        <td>1.98</td>\n",
       "    </tr>\n",
       "</table>"
      ],
      "text/plain": [
       "[(1, 2, '2007-01-01 00:00:00', 'Theodor-Heuss-Straße 34', 'Stuttgart', None, 'Germany', '70174', 1.98)]"
      ]
     },
     "execution_count": 50,
     "metadata": {},
     "output_type": "execute_result"
    }
   ],
   "source": [
    "%%sql\n",
    "\n",
    "SELECT *\n",
    "FROM INVOICE\n",
    "LIMIT 1;"
   ]
  },
  {
   "cell_type": "markdown",
   "metadata": {},
   "source": [
    "### Provide a table of BillingCountry and Invoices ordered by the number of invoices for each country. The country with the most invoices should appear first."
   ]
  },
  {
   "cell_type": "code",
   "execution_count": 51,
   "metadata": {},
   "outputs": [
    {
     "name": "stdout",
     "output_type": "stream",
     "text": [
      " * sqlite:///chinook.sqlite\n",
      "Done.\n"
     ]
    },
    {
     "data": {
      "text/html": [
       "<table>\n",
       "    <tr>\n",
       "        <th>BillingCountry</th>\n",
       "        <th>count_invoices</th>\n",
       "    </tr>\n",
       "    <tr>\n",
       "        <td>USA</td>\n",
       "        <td>91</td>\n",
       "    </tr>\n",
       "    <tr>\n",
       "        <td>Canada</td>\n",
       "        <td>56</td>\n",
       "    </tr>\n",
       "    <tr>\n",
       "        <td>France</td>\n",
       "        <td>35</td>\n",
       "    </tr>\n",
       "    <tr>\n",
       "        <td>Brazil</td>\n",
       "        <td>35</td>\n",
       "    </tr>\n",
       "    <tr>\n",
       "        <td>Germany</td>\n",
       "        <td>28</td>\n",
       "    </tr>\n",
       "    <tr>\n",
       "        <td>United Kingdom</td>\n",
       "        <td>21</td>\n",
       "    </tr>\n",
       "    <tr>\n",
       "        <td>Portugal</td>\n",
       "        <td>14</td>\n",
       "    </tr>\n",
       "    <tr>\n",
       "        <td>Czech Republic</td>\n",
       "        <td>14</td>\n",
       "    </tr>\n",
       "    <tr>\n",
       "        <td>India</td>\n",
       "        <td>13</td>\n",
       "    </tr>\n",
       "    <tr>\n",
       "        <td>Sweden</td>\n",
       "        <td>7</td>\n",
       "    </tr>\n",
       "    <tr>\n",
       "        <td>Spain</td>\n",
       "        <td>7</td>\n",
       "    </tr>\n",
       "    <tr>\n",
       "        <td>Poland</td>\n",
       "        <td>7</td>\n",
       "    </tr>\n",
       "    <tr>\n",
       "        <td>Norway</td>\n",
       "        <td>7</td>\n",
       "    </tr>\n",
       "    <tr>\n",
       "        <td>Netherlands</td>\n",
       "        <td>7</td>\n",
       "    </tr>\n",
       "    <tr>\n",
       "        <td>Italy</td>\n",
       "        <td>7</td>\n",
       "    </tr>\n",
       "    <tr>\n",
       "        <td>Ireland</td>\n",
       "        <td>7</td>\n",
       "    </tr>\n",
       "    <tr>\n",
       "        <td>Hungary</td>\n",
       "        <td>7</td>\n",
       "    </tr>\n",
       "    <tr>\n",
       "        <td>Finland</td>\n",
       "        <td>7</td>\n",
       "    </tr>\n",
       "    <tr>\n",
       "        <td>Denmark</td>\n",
       "        <td>7</td>\n",
       "    </tr>\n",
       "    <tr>\n",
       "        <td>Chile</td>\n",
       "        <td>7</td>\n",
       "    </tr>\n",
       "    <tr>\n",
       "        <td>Belgium</td>\n",
       "        <td>7</td>\n",
       "    </tr>\n",
       "    <tr>\n",
       "        <td>Austria</td>\n",
       "        <td>7</td>\n",
       "    </tr>\n",
       "    <tr>\n",
       "        <td>Australia</td>\n",
       "        <td>7</td>\n",
       "    </tr>\n",
       "    <tr>\n",
       "        <td>Argentina</td>\n",
       "        <td>7</td>\n",
       "    </tr>\n",
       "</table>"
      ],
      "text/plain": [
       "[('USA', 91),\n",
       " ('Canada', 56),\n",
       " ('France', 35),\n",
       " ('Brazil', 35),\n",
       " ('Germany', 28),\n",
       " ('United Kingdom', 21),\n",
       " ('Portugal', 14),\n",
       " ('Czech Republic', 14),\n",
       " ('India', 13),\n",
       " ('Sweden', 7),\n",
       " ('Spain', 7),\n",
       " ('Poland', 7),\n",
       " ('Norway', 7),\n",
       " ('Netherlands', 7),\n",
       " ('Italy', 7),\n",
       " ('Ireland', 7),\n",
       " ('Hungary', 7),\n",
       " ('Finland', 7),\n",
       " ('Denmark', 7),\n",
       " ('Chile', 7),\n",
       " ('Belgium', 7),\n",
       " ('Austria', 7),\n",
       " ('Australia', 7),\n",
       " ('Argentina', 7)]"
      ]
     },
     "execution_count": 51,
     "metadata": {},
     "output_type": "execute_result"
    }
   ],
   "source": [
    "%%sql\n",
    "\n",
    "SELECT BILLINGCOUNTRY,\n",
    "COUNT(DISTINCT(INVOICEID)) as count_invoices\n",
    "FROM INVOICE\n",
    "GROUP BY BILLINGCOUNTRY\n",
    "ORDER BY count_invoices DESC;\n"
   ]
  },
  {
   "cell_type": "markdown",
   "metadata": {},
   "source": [
    "## Tarea 2:\n",
    "\n",
    "Which city has the best customers? We would like to throw a promotional Music Festival in the city we made the most money.<br>Write a query that returns the 1 city that has the highest sum of invoice totals.<br>Return both the city name and the sum of all invoice totals."
   ]
  },
  {
   "cell_type": "markdown",
   "metadata": {},
   "source": [
    "##### CON ESTO VEMOS QUÉ COLUMNAS HAY EN INVOICE Y SI PODEMOS RELAZIONAR ALGUNA DE ESTAS CON ALGUNA DE CUSTOMER."
   ]
  },
  {
   "cell_type": "code",
   "execution_count": 87,
   "metadata": {},
   "outputs": [
    {
     "name": "stdout",
     "output_type": "stream",
     "text": [
      " * sqlite:///chinook.sqlite\n",
      "Done.\n"
     ]
    },
    {
     "data": {
      "text/html": [
       "<table>\n",
       "    <tr>\n",
       "        <th>InvoiceId</th>\n",
       "        <th>CustomerId</th>\n",
       "        <th>InvoiceDate</th>\n",
       "        <th>BillingAddress</th>\n",
       "        <th>BillingCity</th>\n",
       "        <th>BillingState</th>\n",
       "        <th>BillingCountry</th>\n",
       "        <th>BillingPostalCode</th>\n",
       "        <th>Total</th>\n",
       "    </tr>\n",
       "    <tr>\n",
       "        <td>1</td>\n",
       "        <td>2</td>\n",
       "        <td>2007-01-01 00:00:00</td>\n",
       "        <td>Theodor-Heuss-Straße 34</td>\n",
       "        <td>Stuttgart</td>\n",
       "        <td>None</td>\n",
       "        <td>Germany</td>\n",
       "        <td>70174</td>\n",
       "        <td>1.98</td>\n",
       "    </tr>\n",
       "</table>"
      ],
      "text/plain": [
       "[(1, 2, '2007-01-01 00:00:00', 'Theodor-Heuss-Straße 34', 'Stuttgart', None, 'Germany', '70174', 1.98)]"
      ]
     },
     "execution_count": 87,
     "metadata": {},
     "output_type": "execute_result"
    }
   ],
   "source": [
    "%%sql\n",
    "\n",
    "SELECT *\n",
    "FROM INVOICE\n",
    "LIMIT 1;"
   ]
  },
  {
   "cell_type": "markdown",
   "metadata": {},
   "source": [
    "VEMOS QUE HAY UN BILLINGCITY, QUE NOS DA LAS CIUDADES. VAMOS A USARLA Y SUMAR EL TOTAL DE CADA CIUDAD"
   ]
  },
  {
   "cell_type": "code",
   "execution_count": 76,
   "metadata": {},
   "outputs": [
    {
     "name": "stdout",
     "output_type": "stream",
     "text": [
      " * sqlite:///chinook.sqlite\n",
      "Done.\n"
     ]
    },
    {
     "data": {
      "text/html": [
       "<table>\n",
       "    <tr>\n",
       "        <th>BillingCity</th>\n",
       "        <th>TOTAL_SUM</th>\n",
       "    </tr>\n",
       "    <tr>\n",
       "        <td>Prague</td>\n",
       "        <td>90.24</td>\n",
       "    </tr>\n",
       "    <tr>\n",
       "        <td>Paris</td>\n",
       "        <td>77.24</td>\n",
       "    </tr>\n",
       "    <tr>\n",
       "        <td>Mountain View</td>\n",
       "        <td>77.24</td>\n",
       "    </tr>\n",
       "    <tr>\n",
       "        <td>São Paulo</td>\n",
       "        <td>75.24</td>\n",
       "    </tr>\n",
       "    <tr>\n",
       "        <td>London</td>\n",
       "        <td>75.24</td>\n",
       "    </tr>\n",
       "</table>"
      ],
      "text/plain": [
       "[('Prague', 90.24),\n",
       " ('Paris', 77.24),\n",
       " ('Mountain View', 77.24),\n",
       " ('São Paulo', 75.24),\n",
       " ('London', 75.24)]"
      ]
     },
     "execution_count": 76,
     "metadata": {},
     "output_type": "execute_result"
    }
   ],
   "source": [
    "%%sql\n",
    "\n",
    "SELECT BILLINGCITY,\n",
    "ROUND(SUM(TOTAL),2) AS TOTAL_SUM\n",
    "FROM INVOICE\n",
    "GROUP BY BILLINGCITY\n",
    "ORDER BY TOTAL_SUM DESC\n",
    "LIMIT 5;"
   ]
  },
  {
   "cell_type": "markdown",
   "metadata": {},
   "source": [
    "## Tarea 3.\n",
    "Who is the best customer? The customer who has spent the most money will be declared the best customer.<BR> Build a query that returns the person who has spent the most money.<BR>I found the solution by linking the following three: Invoice, InvoiceLine, and Customer tables to retrieve this information, but you can probably do it with fewer!"
   ]
  },
  {
   "cell_type": "markdown",
   "metadata": {},
   "source": [
    "##### VEMOS QUE EN CUSTOMER E INVOICE TENEMOS CUSTOMERID, VAMOS A HACER UN JOIN PARA JUNTAR TABLAS CON ESTE ENLACE:"
   ]
  },
  {
   "cell_type": "code",
   "execution_count": 84,
   "metadata": {},
   "outputs": [
    {
     "name": "stdout",
     "output_type": "stream",
     "text": [
      " * sqlite:///chinook.sqlite\n",
      "Done.\n"
     ]
    },
    {
     "data": {
      "text/html": [
       "<table>\n",
       "    <tr>\n",
       "        <th>CustomerId</th>\n",
       "        <th>TOTAL</th>\n",
       "    </tr>\n",
       "    <tr>\n",
       "        <td>6</td>\n",
       "        <td>49.62</td>\n",
       "    </tr>\n",
       "</table>"
      ],
      "text/plain": [
       "[(6, 49.62)]"
      ]
     },
     "execution_count": 84,
     "metadata": {},
     "output_type": "execute_result"
    }
   ],
   "source": [
    "%%sql\n",
    "\n",
    "SELECT\n",
    "        C.CUSTOMERID,\n",
    "        ROUND(SUM(I.TOTAL),2) AS TOTAL\n",
    "    FROM CUSTOMER AS C\n",
    "    LEFT JOIN INVOICE AS I\n",
    "    ON C.CUSTOMERID = I.CUSTOMERID\n",
    "    GROUP BY C.CUSTOMERID\n",
    "    ORDER BY TOTAL DESC\n",
    "    LIMIT 1;"
   ]
  },
  {
   "cell_type": "markdown",
   "metadata": {},
   "source": [
    "## Tarea 4:\n",
    "Use your query to return the email, first name, last name, and Genre of all Rock Music listeners. Return your list ordered alphabetically by email address starting with A"
   ]
  },
  {
   "cell_type": "code",
   "execution_count": 106,
   "metadata": {},
   "outputs": [
    {
     "name": "stdout",
     "output_type": "stream",
     "text": [
      " * sqlite:///chinook.sqlite\n",
      "Done.\n"
     ]
    },
    {
     "data": {
      "text/html": [
       "<table>\n",
       "    <tr>\n",
       "        <th>Email</th>\n",
       "        <th>FirstName</th>\n",
       "        <th>LastName</th>\n",
       "        <th>Name</th>\n",
       "    </tr>\n",
       "    <tr>\n",
       "        <td>aaronmitchell@yahoo.ca</td>\n",
       "        <td>Aaron</td>\n",
       "        <td>Mitchell</td>\n",
       "        <td>Rock</td>\n",
       "    </tr>\n",
       "    <tr>\n",
       "        <td>alero@uol.com.br</td>\n",
       "        <td>Alexandre</td>\n",
       "        <td>Rocha</td>\n",
       "        <td>Rock</td>\n",
       "    </tr>\n",
       "    <tr>\n",
       "        <td>astrid.gruber@apple.at</td>\n",
       "        <td>Astrid</td>\n",
       "        <td>Gruber</td>\n",
       "        <td>Rock</td>\n",
       "    </tr>\n",
       "    <tr>\n",
       "        <td>bjorn.hansen@yahoo.no</td>\n",
       "        <td>Bjørn</td>\n",
       "        <td>Hansen</td>\n",
       "        <td>Rock</td>\n",
       "    </tr>\n",
       "    <tr>\n",
       "        <td>camille.bernard@yahoo.fr</td>\n",
       "        <td>Camille</td>\n",
       "        <td>Bernard</td>\n",
       "        <td>Rock</td>\n",
       "    </tr>\n",
       "</table>"
      ],
      "text/plain": [
       "[('aaronmitchell@yahoo.ca', 'Aaron', 'Mitchell', 'Rock'),\n",
       " ('alero@uol.com.br', 'Alexandre', 'Rocha', 'Rock'),\n",
       " ('astrid.gruber@apple.at', 'Astrid', 'Gruber', 'Rock'),\n",
       " ('bjorn.hansen@yahoo.no', 'Bjørn', 'Hansen', 'Rock'),\n",
       " ('camille.bernard@yahoo.fr', 'Camille', 'Bernard', 'Rock')]"
      ]
     },
     "execution_count": 106,
     "metadata": {},
     "output_type": "execute_result"
    }
   ],
   "source": [
    "%%sql\n",
    "\n",
    "SELECT DISTINCT(C.EMAIL), C.FIRSTNAME, C.LASTNAME, G.NAME\n",
    "    FROM GENRE AS G\n",
    "    JOIN TRACK AS T\n",
    "    ON G.GENREID = T.GENREID\n",
    "    JOIN INVOICELINE AS IL\n",
    "    ON T.TRACKID = IL.TRACKID\n",
    "    JOIN INVOICE AS I\n",
    "    ON IL.INVOICEID = I.INVOICEID\n",
    "    JOIN CUSTOMER AS C\n",
    "    ON I.CUSTOMERID = C.CUSTOMERID\n",
    "    WHERE UPPER(G.NAME) = 'ROCK'\n",
    "    ORDER BY C.EMAIL ASC\n",
    "    LIMIT 5;"
   ]
  },
  {
   "cell_type": "markdown",
   "metadata": {},
   "source": [
    "### Tarea 5:\n",
    "\n",
    "Who is writing the rock music? Now that we know that our customers love rock music, we can decide which musicians to invite to play at the concert. Let’s invite the artists who have written the most rock music in our dataset. Write a query that returns the Artist name and total track count of the top 10 rock bands."
   ]
  },
  {
   "cell_type": "code",
   "execution_count": 146,
   "metadata": {},
   "outputs": [
    {
     "name": "stdout",
     "output_type": "stream",
     "text": [
      " * sqlite:///chinook.sqlite\n",
      "Done.\n"
     ]
    },
    {
     "data": {
      "text/html": [
       "<table>\n",
       "    <tr>\n",
       "        <th>Name</th>\n",
       "        <th>G_COUNT</th>\n",
       "    </tr>\n",
       "    <tr>\n",
       "        <td>AC/DC</td>\n",
       "        <td>3503</td>\n",
       "    </tr>\n",
       "</table>"
      ],
      "text/plain": [
       "[('AC/DC', 3503)]"
      ]
     },
     "execution_count": 146,
     "metadata": {},
     "output_type": "execute_result"
    }
   ],
   "source": [
    "%%sql\n",
    "\n",
    "SELECT A.NAME, COUNT (G.NAME) AS G_COUNT\n",
    "    FROM ARTIST AS A, GENRE AS G\n",
    "    JOIN ALBUM AS AL\n",
    "    ON A.ARTISTID = AL.ARTISTID\n",
    "    JOIN TRACK AS T\n",
    "    ON AL.ALBUMID = T.ALBUMID\n",
    "    WHERE UPPER(G.NAME) = 'ROCK'\n",
    "    ORDER BY G_COUNT ASC\n",
    "    LIMIT 5;"
   ]
  },
  {
   "cell_type": "code",
   "execution_count": 145,
   "metadata": {},
   "outputs": [
    {
     "name": "stdout",
     "output_type": "stream",
     "text": [
      " * sqlite:///chinook.sqlite\n",
      "Done.\n"
     ]
    },
    {
     "data": {
      "text/html": [
       "<table>\n",
       "    <tr>\n",
       "        <th>Name</th>\n",
       "        <th>G_COUNT</th>\n",
       "    </tr>\n",
       "    <tr>\n",
       "        <td>AC/DC</td>\n",
       "        <td>1297</td>\n",
       "    </tr>\n",
       "</table>"
      ],
      "text/plain": [
       "[('AC/DC', 1297)]"
      ]
     },
     "execution_count": 145,
     "metadata": {},
     "output_type": "execute_result"
    }
   ],
   "source": [
    "%%sql\n",
    "\n",
    "SELECT A.NAME, COUNT(G.NAME) AS G_COUNT\n",
    "    FROM ARTIST AS A\n",
    "    JOIN ALBUM AS AL\n",
    "    ON A.ARTISTID = AL.ARTISTID\n",
    "    JOIN TRACK AS T\n",
    "    ON AL.ALBUMID = T.ALBUMID\n",
    "    JOIN GENRE AS G\n",
    "    ON T.GENREID = G.GENREID\n",
    "    WHERE UPPER(G.NAME) = 'ROCK'\n",
    "    ORDER BY G_COUNT ASC\n",
    "    LIMIT 10;"
   ]
  },
  {
   "cell_type": "code",
   "execution_count": 144,
   "metadata": {},
   "outputs": [
    {
     "name": "stdout",
     "output_type": "stream",
     "text": [
      " * sqlite:///chinook.sqlite\n",
      "Done.\n"
     ]
    },
    {
     "data": {
      "text/html": [
       "<table>\n",
       "    <tr>\n",
       "        <th>Name</th>\n",
       "        <th>G_COUNT</th>\n",
       "    </tr>\n",
       "    <tr>\n",
       "        <td>AC/DC</td>\n",
       "        <td>1297</td>\n",
       "    </tr>\n",
       "</table>"
      ],
      "text/plain": [
       "[('AC/DC', 1297)]"
      ]
     },
     "execution_count": 144,
     "metadata": {},
     "output_type": "execute_result"
    }
   ],
   "source": [
    "%%sql\n",
    "\n",
    "SELECT A.NAME, COUNT(G.NAME) AS G_COUNT\n",
    "    FROM TRACK AS T\n",
    "    JOIN GENRE AS G\n",
    "    ON T.GENREID = G.GENREID\n",
    "    JOIN ALBUM AS AL\n",
    "    ON AL.ALBUMID = T.ALBUMID\n",
    "    JOIN ARTIST AS A\n",
    "    ON AL.ARTISTID = A.ARTISTID\n",
    "    WHERE UPPER(G.NAME) = 'ROCK'\n",
    "    ORDER BY G_COUNT ASC\n",
    "    LIMIT 10;"
   ]
  }
 ],
 "metadata": {
  "kernelspec": {
   "display_name": "Python 3.8.3 64-bit",
   "language": "python",
   "name": "python3"
  },
  "language_info": {
   "codemirror_mode": {
    "name": "ipython",
    "version": 3
   },
   "file_extension": ".py",
   "mimetype": "text/x-python",
   "name": "python",
   "nbconvert_exporter": "python",
   "pygments_lexer": "ipython3",
   "version": "3.8.3"
  },
  "orig_nbformat": 4,
  "vscode": {
   "interpreter": {
    "hash": "df13bd791eb3eb6b802aafa7e29e7ec83141c5890de5dfb52479ad9d21a28377"
   }
  }
 },
 "nbformat": 4,
 "nbformat_minor": 2
}

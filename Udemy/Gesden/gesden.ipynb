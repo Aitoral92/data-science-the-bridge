{
 "cells": [
  {
   "cell_type": "code",
   "execution_count": 2,
   "metadata": {},
   "outputs": [],
   "source": [
    "import pandas as pd\n",
    "import numpy as np\n",
    "import seaborn as sns\n",
    "from datetime import datetime, date\n",
    "import matplotlib.pyplot as plt"
   ]
  },
  {
   "cell_type": "code",
   "execution_count": 52,
   "metadata": {},
   "outputs": [],
   "source": [
    "ges = pd.read_csv(\"Gesden_todo.csv\")"
   ]
  },
  {
   "cell_type": "code",
   "execution_count": 53,
   "metadata": {},
   "outputs": [
    {
     "data": {
      "text/plain": [
       "14392"
      ]
     },
     "execution_count": 53,
     "metadata": {},
     "output_type": "execute_result"
    }
   ],
   "source": [
    "len(ges)"
   ]
  },
  {
   "cell_type": "code",
   "execution_count": 54,
   "metadata": {},
   "outputs": [],
   "source": [
    "ges[\"FecNacim\"] = pd.to_datetime(ges[\"FecNacim\"], format = \"%d/%m/%Y\")"
   ]
  },
  {
   "cell_type": "code",
   "execution_count": 55,
   "metadata": {},
   "outputs": [
    {
     "data": {
      "text/html": [
       "<div>\n",
       "<style scoped>\n",
       "    .dataframe tbody tr th:only-of-type {\n",
       "        vertical-align: middle;\n",
       "    }\n",
       "\n",
       "    .dataframe tbody tr th {\n",
       "        vertical-align: top;\n",
       "    }\n",
       "\n",
       "    .dataframe thead th {\n",
       "        text-align: right;\n",
       "    }\n",
       "</style>\n",
       "<table border=\"1\" class=\"dataframe\">\n",
       "  <thead>\n",
       "    <tr style=\"text-align: right;\">\n",
       "      <th></th>\n",
       "      <th>Num.Pac.</th>\n",
       "      <th>Apellidos</th>\n",
       "      <th>Nombre</th>\n",
       "      <th>FecNacim</th>\n",
       "      <th>Telf.Partic.</th>\n",
       "      <th>Telf.Trabajo</th>\n",
       "      <th>Telf.Movil</th>\n",
       "      <th>Direccion</th>\n",
       "      <th>CP</th>\n",
       "      <th>Sexo</th>\n",
       "      <th>Email</th>\n",
       "    </tr>\n",
       "  </thead>\n",
       "  <tbody>\n",
       "    <tr>\n",
       "      <th>0</th>\n",
       "      <td>8394</td>\n",
       "      <td>DE LA ENCINA PEREZ</td>\n",
       "      <td>BEATRIZ NIREYA</td>\n",
       "      <td>1961-02-18</td>\n",
       "      <td>944330828</td>\n",
       "      <td>NaN</td>\n",
       "      <td>NaN</td>\n",
       "      <td>FICA  N5 ENTRESUELO IZDA  BILBAO</td>\n",
       "      <td>NaN</td>\n",
       "      <td>NaN</td>\n",
       "      <td>NaN</td>\n",
       "    </tr>\n",
       "    <tr>\n",
       "      <th>1</th>\n",
       "      <td>11793</td>\n",
       "      <td>MAY DE DAMAS</td>\n",
       "      <td>ADRIAN</td>\n",
       "      <td>2010-01-26</td>\n",
       "      <td>944054779</td>\n",
       "      <td>NaN</td>\n",
       "      <td>667581902</td>\n",
       "      <td>PADRE LOGENDIO Nº5 3ºDRCHA DRCHA</td>\n",
       "      <td>48008</td>\n",
       "      <td>H</td>\n",
       "      <td>BGONADAMAS@HOTMAIL.COM</td>\n",
       "    </tr>\n",
       "    <tr>\n",
       "      <th>2</th>\n",
       "      <td>7592</td>\n",
       "      <td>ZUGAZAGOITIA HERNANDO</td>\n",
       "      <td>ENEKO MIRENA</td>\n",
       "      <td>1985-06-10</td>\n",
       "      <td>944759131</td>\n",
       "      <td>NaN</td>\n",
       "      <td>NaN</td>\n",
       "      <td>ARENAL CELESTINO PL. 10, 6º D</td>\n",
       "      <td>NaN</td>\n",
       "      <td>H</td>\n",
       "      <td>NaN</td>\n",
       "    </tr>\n",
       "    <tr>\n",
       "      <th>3</th>\n",
       "      <td>2918</td>\n",
       "      <td>.</td>\n",
       "      <td>.</td>\n",
       "      <td>NaT</td>\n",
       "      <td>NaN</td>\n",
       "      <td>NaN</td>\n",
       "      <td>NaN</td>\n",
       "      <td>NaN</td>\n",
       "      <td>NaN</td>\n",
       "      <td>NaN</td>\n",
       "      <td>NaN</td>\n",
       "    </tr>\n",
       "    <tr>\n",
       "      <th>4</th>\n",
       "      <td>14180</td>\n",
       "      <td>.</td>\n",
       "      <td>PAVLO</td>\n",
       "      <td>NaT</td>\n",
       "      <td>NaN</td>\n",
       "      <td>NaN</td>\n",
       "      <td>NaN</td>\n",
       "      <td>NaN</td>\n",
       "      <td>NaN</td>\n",
       "      <td>NaN</td>\n",
       "      <td>filippskiy03@gmail.com</td>\n",
       "    </tr>\n",
       "  </tbody>\n",
       "</table>\n",
       "</div>"
      ],
      "text/plain": [
       "  Num.Pac.               Apellidos          Nombre   FecNacim Telf.Partic.  \\\n",
       "0     8394      DE LA ENCINA PEREZ  BEATRIZ NIREYA 1961-02-18    944330828   \n",
       "1    11793            MAY DE DAMAS          ADRIAN 2010-01-26    944054779   \n",
       "2     7592   ZUGAZAGOITIA HERNANDO    ENEKO MIRENA 1985-06-10    944759131   \n",
       "3     2918                       .               .        NaT          NaN   \n",
       "4    14180                       .           PAVLO        NaT          NaN   \n",
       "\n",
       "  Telf.Trabajo Telf.Movil                         Direccion     CP Sexo  \\\n",
       "0          NaN        NaN  FICA  N5 ENTRESUELO IZDA  BILBAO    NaN  NaN   \n",
       "1          NaN  667581902  PADRE LOGENDIO Nº5 3ºDRCHA DRCHA  48008    H   \n",
       "2          NaN        NaN     ARENAL CELESTINO PL. 10, 6º D    NaN    H   \n",
       "3          NaN        NaN                               NaN    NaN  NaN   \n",
       "4          NaN        NaN                               NaN    NaN  NaN   \n",
       "\n",
       "                    Email  \n",
       "0                     NaN  \n",
       "1  BGONADAMAS@HOTMAIL.COM  \n",
       "2                     NaN  \n",
       "3                     NaN  \n",
       "4  filippskiy03@gmail.com  "
      ]
     },
     "execution_count": 55,
     "metadata": {},
     "output_type": "execute_result"
    }
   ],
   "source": [
    "ges.drop(ges.iloc[:,4:5] , axis=1, inplace=True)\n",
    "ges.head()"
   ]
  },
  {
   "cell_type": "code",
   "execution_count": 56,
   "metadata": {},
   "outputs": [],
   "source": [
    "ges=ges.drop(\"Num.Pac.\", axis=1)"
   ]
  },
  {
   "cell_type": "code",
   "execution_count": 57,
   "metadata": {},
   "outputs": [
    {
     "data": {
      "text/html": [
       "<div>\n",
       "<style scoped>\n",
       "    .dataframe tbody tr th:only-of-type {\n",
       "        vertical-align: middle;\n",
       "    }\n",
       "\n",
       "    .dataframe tbody tr th {\n",
       "        vertical-align: top;\n",
       "    }\n",
       "\n",
       "    .dataframe thead th {\n",
       "        text-align: right;\n",
       "    }\n",
       "</style>\n",
       "<table border=\"1\" class=\"dataframe\">\n",
       "  <thead>\n",
       "    <tr style=\"text-align: right;\">\n",
       "      <th></th>\n",
       "      <th>Apellidos</th>\n",
       "      <th>Nombre</th>\n",
       "      <th>FecNacim</th>\n",
       "      <th>Telf.Movil</th>\n",
       "      <th>Direccion</th>\n",
       "      <th>CP</th>\n",
       "      <th>Sexo</th>\n",
       "      <th>Email</th>\n",
       "    </tr>\n",
       "  </thead>\n",
       "  <tbody>\n",
       "    <tr>\n",
       "      <th>0</th>\n",
       "      <td>DE LA ENCINA PEREZ</td>\n",
       "      <td>BEATRIZ NIREYA</td>\n",
       "      <td>1961-02-18</td>\n",
       "      <td>NaN</td>\n",
       "      <td>FICA  N5 ENTRESUELO IZDA  BILBAO</td>\n",
       "      <td>NaN</td>\n",
       "      <td>NaN</td>\n",
       "      <td>NaN</td>\n",
       "    </tr>\n",
       "    <tr>\n",
       "      <th>1</th>\n",
       "      <td>MAY DE DAMAS</td>\n",
       "      <td>ADRIAN</td>\n",
       "      <td>2010-01-26</td>\n",
       "      <td>667581902</td>\n",
       "      <td>PADRE LOGENDIO Nº5 3ºDRCHA DRCHA</td>\n",
       "      <td>48008</td>\n",
       "      <td>H</td>\n",
       "      <td>BGONADAMAS@HOTMAIL.COM</td>\n",
       "    </tr>\n",
       "    <tr>\n",
       "      <th>2</th>\n",
       "      <td>ZUGAZAGOITIA HERNANDO</td>\n",
       "      <td>ENEKO MIRENA</td>\n",
       "      <td>1985-06-10</td>\n",
       "      <td>NaN</td>\n",
       "      <td>ARENAL CELESTINO PL. 10, 6º D</td>\n",
       "      <td>NaN</td>\n",
       "      <td>H</td>\n",
       "      <td>NaN</td>\n",
       "    </tr>\n",
       "    <tr>\n",
       "      <th>3</th>\n",
       "      <td>.</td>\n",
       "      <td>.</td>\n",
       "      <td>NaT</td>\n",
       "      <td>NaN</td>\n",
       "      <td>NaN</td>\n",
       "      <td>NaN</td>\n",
       "      <td>NaN</td>\n",
       "      <td>NaN</td>\n",
       "    </tr>\n",
       "    <tr>\n",
       "      <th>4</th>\n",
       "      <td>.</td>\n",
       "      <td>PAVLO</td>\n",
       "      <td>NaT</td>\n",
       "      <td>NaN</td>\n",
       "      <td>NaN</td>\n",
       "      <td>NaN</td>\n",
       "      <td>NaN</td>\n",
       "      <td>filippskiy03@gmail.com</td>\n",
       "    </tr>\n",
       "  </tbody>\n",
       "</table>\n",
       "</div>"
      ],
      "text/plain": [
       "                Apellidos          Nombre   FecNacim Telf.Movil  \\\n",
       "0      DE LA ENCINA PEREZ  BEATRIZ NIREYA 1961-02-18        NaN   \n",
       "1            MAY DE DAMAS          ADRIAN 2010-01-26  667581902   \n",
       "2   ZUGAZAGOITIA HERNANDO    ENEKO MIRENA 1985-06-10        NaN   \n",
       "3                       .               .        NaT        NaN   \n",
       "4                       .           PAVLO        NaT        NaN   \n",
       "\n",
       "                          Direccion     CP Sexo                   Email  \n",
       "0  FICA  N5 ENTRESUELO IZDA  BILBAO    NaN  NaN                     NaN  \n",
       "1  PADRE LOGENDIO Nº5 3ºDRCHA DRCHA  48008    H  BGONADAMAS@HOTMAIL.COM  \n",
       "2     ARENAL CELESTINO PL. 10, 6º D    NaN    H                     NaN  \n",
       "3                               NaN    NaN  NaN                     NaN  \n",
       "4                               NaN    NaN  NaN  filippskiy03@gmail.com  "
      ]
     },
     "execution_count": 57,
     "metadata": {},
     "output_type": "execute_result"
    }
   ],
   "source": [
    "ges=ges.drop([\"Telf.Partic.\",\"Telf.Trabajo\"], axis=1)\n",
    "ges.head()"
   ]
  },
  {
   "cell_type": "code",
   "execution_count": 58,
   "metadata": {},
   "outputs": [
    {
     "data": {
      "text/html": [
       "<div>\n",
       "<style scoped>\n",
       "    .dataframe tbody tr th:only-of-type {\n",
       "        vertical-align: middle;\n",
       "    }\n",
       "\n",
       "    .dataframe tbody tr th {\n",
       "        vertical-align: top;\n",
       "    }\n",
       "\n",
       "    .dataframe thead th {\n",
       "        text-align: right;\n",
       "    }\n",
       "</style>\n",
       "<table border=\"1\" class=\"dataframe\">\n",
       "  <thead>\n",
       "    <tr style=\"text-align: right;\">\n",
       "      <th></th>\n",
       "      <th>Apellidos</th>\n",
       "      <th>Nombre</th>\n",
       "      <th>FecNacim</th>\n",
       "      <th>Telf.Movil</th>\n",
       "      <th>Sexo</th>\n",
       "      <th>Email</th>\n",
       "    </tr>\n",
       "  </thead>\n",
       "  <tbody>\n",
       "    <tr>\n",
       "      <th>0</th>\n",
       "      <td>DE LA ENCINA PEREZ</td>\n",
       "      <td>BEATRIZ NIREYA</td>\n",
       "      <td>1961-02-18</td>\n",
       "      <td>NaN</td>\n",
       "      <td>NaN</td>\n",
       "      <td>NaN</td>\n",
       "    </tr>\n",
       "    <tr>\n",
       "      <th>1</th>\n",
       "      <td>MAY DE DAMAS</td>\n",
       "      <td>ADRIAN</td>\n",
       "      <td>2010-01-26</td>\n",
       "      <td>667581902</td>\n",
       "      <td>H</td>\n",
       "      <td>BGONADAMAS@HOTMAIL.COM</td>\n",
       "    </tr>\n",
       "    <tr>\n",
       "      <th>2</th>\n",
       "      <td>ZUGAZAGOITIA HERNANDO</td>\n",
       "      <td>ENEKO MIRENA</td>\n",
       "      <td>1985-06-10</td>\n",
       "      <td>NaN</td>\n",
       "      <td>H</td>\n",
       "      <td>NaN</td>\n",
       "    </tr>\n",
       "    <tr>\n",
       "      <th>3</th>\n",
       "      <td>.</td>\n",
       "      <td>.</td>\n",
       "      <td>NaT</td>\n",
       "      <td>NaN</td>\n",
       "      <td>NaN</td>\n",
       "      <td>NaN</td>\n",
       "    </tr>\n",
       "    <tr>\n",
       "      <th>4</th>\n",
       "      <td>.</td>\n",
       "      <td>PAVLO</td>\n",
       "      <td>NaT</td>\n",
       "      <td>NaN</td>\n",
       "      <td>NaN</td>\n",
       "      <td>filippskiy03@gmail.com</td>\n",
       "    </tr>\n",
       "  </tbody>\n",
       "</table>\n",
       "</div>"
      ],
      "text/plain": [
       "                Apellidos          Nombre   FecNacim Telf.Movil Sexo  \\\n",
       "0      DE LA ENCINA PEREZ  BEATRIZ NIREYA 1961-02-18        NaN  NaN   \n",
       "1            MAY DE DAMAS          ADRIAN 2010-01-26  667581902    H   \n",
       "2   ZUGAZAGOITIA HERNANDO    ENEKO MIRENA 1985-06-10        NaN    H   \n",
       "3                       .               .        NaT        NaN  NaN   \n",
       "4                       .           PAVLO        NaT        NaN  NaN   \n",
       "\n",
       "                    Email  \n",
       "0                     NaN  \n",
       "1  BGONADAMAS@HOTMAIL.COM  \n",
       "2                     NaN  \n",
       "3                     NaN  \n",
       "4  filippskiy03@gmail.com  "
      ]
     },
     "execution_count": 58,
     "metadata": {},
     "output_type": "execute_result"
    }
   ],
   "source": [
    "ges=ges.drop([\"Direccion\",\"CP\"], axis=1)\n",
    "ges.head()"
   ]
  },
  {
   "cell_type": "code",
   "execution_count": 59,
   "metadata": {},
   "outputs": [
    {
     "data": {
      "text/plain": [
       "8730"
      ]
     },
     "execution_count": 59,
     "metadata": {},
     "output_type": "execute_result"
    }
   ],
   "source": [
    "ges.Email.isna().sum()"
   ]
  },
  {
   "cell_type": "code",
   "execution_count": 63,
   "metadata": {},
   "outputs": [
    {
     "data": {
      "text/plain": [
       "5662"
      ]
     },
     "execution_count": 63,
     "metadata": {},
     "output_type": "execute_result"
    }
   ],
   "source": [
    "ges.Email.value_counts().sum()"
   ]
  },
  {
   "cell_type": "code",
   "execution_count": 43,
   "metadata": {},
   "outputs": [
    {
     "data": {
      "text/plain": [
       "NO USA                           425\n",
       "NO TIENE                          37\n",
       "NO USA!!!                         33\n",
       "NO                                31\n",
       "NO UTILIZA                        29\n",
       "-                                 14\n",
       "NO USA!!                          14\n",
       "NO USA!!!!                         7\n",
       "NO USA!                            5\n",
       "NO QUIERE DARLO                    4\n",
       "anderxabier@telefonica.net         4\n",
       "familiamusitu@gmail.com            4\n",
       "maria.pamamo@gmail.com             4\n",
       "EMIKELARENA@GMAIL.COM              3\n",
       "rioberasategui@telefonica.net      3\n",
       "APALACIOG@GMAIL.COM                3\n",
       "BARBADILLO179@HOTMAIL.COM          3\n",
       "cgomeza87@hotmail.com              3\n",
       "SESEMAMON@YAHOO.ES                 3\n",
       "CUANDO HAGA FALTA                  3\n",
       "Name: Email, dtype: int64"
      ]
     },
     "execution_count": 43,
     "metadata": {},
     "output_type": "execute_result"
    }
   ],
   "source": [
    "ges.Email.value_counts().head(20)"
   ]
  },
  {
   "cell_type": "code",
   "execution_count": 64,
   "metadata": {},
   "outputs": [],
   "source": [
    "ges_email = ges.dropna(subset=['Email']) #Tiramos los NaN de Email"
   ]
  },
  {
   "cell_type": "code",
   "execution_count": 65,
   "metadata": {},
   "outputs": [
    {
     "data": {
      "text/plain": [
       "5662"
      ]
     },
     "execution_count": 65,
     "metadata": {},
     "output_type": "execute_result"
    }
   ],
   "source": [
    "ges.Email.value_counts().sum()"
   ]
  },
  {
   "cell_type": "code",
   "execution_count": 67,
   "metadata": {},
   "outputs": [],
   "source": [
    "regex = r'^[a-z0-9]+[\\._]?[a-z0-9]+[@]\\w+[.]\\w{2,3}$'  \n",
    "ges_email= ges_email[ges_email['Email'].str.contains(regex)]\n",
    "\n",
    "#Nos quedamos solo con los valores que tienen un @, por ejemplo (Regex, regular expression)"
   ]
  },
  {
   "cell_type": "code",
   "execution_count": 83,
   "metadata": {},
   "outputs": [
    {
     "data": {
      "text/plain": [
       "maria.pamamo@gmail.com         4\n",
       "familiamusitu@gmail.com        4\n",
       "anderxabier@telefonica.net     4\n",
       "aaxpe@ecna.es                  3\n",
       "elena.romero@ehu.es            3\n",
       "                              ..\n",
       "mariarosa_73@hotmail.com       2\n",
       "iramin_20@hotmail.com          1\n",
       "salvamonre@gmail.com           1\n",
       "charolantaron@euskalnet.net    1\n",
       "senaski14@hotmail.com          1\n",
       "Name: Email, Length: 104, dtype: int64"
      ]
     },
     "execution_count": 83,
     "metadata": {},
     "output_type": "execute_result"
    }
   ],
   "source": [
    "ges_email.Email.value_counts().head(104)"
   ]
  },
  {
   "cell_type": "code",
   "execution_count": 86,
   "metadata": {},
   "outputs": [],
   "source": [
    "ges_email=ges_email.drop_duplicates(subset =\"Email\")\n",
    "\n",
    "#Tiramos duplicados"
   ]
  },
  {
   "cell_type": "code",
   "execution_count": 87,
   "metadata": {},
   "outputs": [
    {
     "data": {
      "text/plain": [
       "3167"
      ]
     },
     "execution_count": 87,
     "metadata": {},
     "output_type": "execute_result"
    }
   ],
   "source": [
    "ges_email.Email.value_counts().sum()"
   ]
  },
  {
   "cell_type": "code",
   "execution_count": 15,
   "metadata": {},
   "outputs": [
    {
     "data": {
      "text/html": [
       "<div>\n",
       "<style scoped>\n",
       "    .dataframe tbody tr th:only-of-type {\n",
       "        vertical-align: middle;\n",
       "    }\n",
       "\n",
       "    .dataframe tbody tr th {\n",
       "        vertical-align: top;\n",
       "    }\n",
       "\n",
       "    .dataframe thead th {\n",
       "        text-align: right;\n",
       "    }\n",
       "</style>\n",
       "<table border=\"1\" class=\"dataframe\">\n",
       "  <thead>\n",
       "    <tr style=\"text-align: right;\">\n",
       "      <th></th>\n",
       "      <th>Apellidos</th>\n",
       "      <th>Nombre</th>\n",
       "      <th>FecNacim</th>\n",
       "      <th>Telf.Movil</th>\n",
       "      <th>Sexo</th>\n",
       "      <th>Email</th>\n",
       "    </tr>\n",
       "  </thead>\n",
       "  <tbody>\n",
       "    <tr>\n",
       "      <th>4</th>\n",
       "      <td>.</td>\n",
       "      <td>PAVLO</td>\n",
       "      <td>NaT</td>\n",
       "      <td>NaN</td>\n",
       "      <td>NaN</td>\n",
       "      <td>filippskiy03@gmail.com</td>\n",
       "    </tr>\n",
       "    <tr>\n",
       "      <th>5</th>\n",
       "      <td>ABAD ALVAREZ</td>\n",
       "      <td>MARIA LUZ</td>\n",
       "      <td>1967-12-03</td>\n",
       "      <td>696031962</td>\n",
       "      <td>M</td>\n",
       "      <td>quinoy5@hotmail.com</td>\n",
       "    </tr>\n",
       "    <tr>\n",
       "      <th>6</th>\n",
       "      <td>ABAD ARMENTIA</td>\n",
       "      <td>KOLDO</td>\n",
       "      <td>1973-05-26</td>\n",
       "      <td>677983353</td>\n",
       "      <td>H</td>\n",
       "      <td>koldo@moyua.com</td>\n",
       "    </tr>\n",
       "    <tr>\n",
       "      <th>12</th>\n",
       "      <td>ABAD ITURRIARTE</td>\n",
       "      <td>CELINA</td>\n",
       "      <td>1956-03-23</td>\n",
       "      <td>627432645</td>\n",
       "      <td>M</td>\n",
       "      <td>cabad56@gmail.com</td>\n",
       "    </tr>\n",
       "    <tr>\n",
       "      <th>15</th>\n",
       "      <td>ABADEA BEITIA</td>\n",
       "      <td>ROSA MARÍA</td>\n",
       "      <td>1955-08-03</td>\n",
       "      <td>630566641</td>\n",
       "      <td>M</td>\n",
       "      <td>josemariri@outlook.com</td>\n",
       "    </tr>\n",
       "  </tbody>\n",
       "</table>\n",
       "</div>"
      ],
      "text/plain": [
       "          Apellidos      Nombre   FecNacim Telf.Movil Sexo  \\\n",
       "4                 .       PAVLO        NaT        NaN  NaN   \n",
       "5      ABAD ALVAREZ   MARIA LUZ 1967-12-03  696031962    M   \n",
       "6     ABAD ARMENTIA       KOLDO 1973-05-26  677983353    H   \n",
       "12  ABAD ITURRIARTE      CELINA 1956-03-23  627432645    M   \n",
       "15    ABADEA BEITIA  ROSA MARÍA 1955-08-03  630566641    M   \n",
       "\n",
       "                     Email  \n",
       "4   filippskiy03@gmail.com  \n",
       "5      quinoy5@hotmail.com  \n",
       "6          koldo@moyua.com  \n",
       "12       cabad56@gmail.com  \n",
       "15  josemariri@outlook.com  "
      ]
     },
     "execution_count": 15,
     "metadata": {},
     "output_type": "execute_result"
    }
   ],
   "source": [
    "ges_email.head()"
   ]
  },
  {
   "cell_type": "code",
   "execution_count": 16,
   "metadata": {},
   "outputs": [
    {
     "name": "stderr",
     "output_type": "stream",
     "text": [
      "c:\\Users\\aitor\\AppData\\Local\\Programs\\Python\\Python38\\lib\\site-packages\\IPython\\core\\interactiveshell.py:3398: FutureWarning: Units 'M', 'Y' and 'y' do not represent unambiguous timedelta values and will be removed in a future version.\n",
      "  exec(code_obj, self.user_global_ns, self.user_ns)\n"
     ]
    },
    {
     "data": {
      "text/html": [
       "<div>\n",
       "<style scoped>\n",
       "    .dataframe tbody tr th:only-of-type {\n",
       "        vertical-align: middle;\n",
       "    }\n",
       "\n",
       "    .dataframe tbody tr th {\n",
       "        vertical-align: top;\n",
       "    }\n",
       "\n",
       "    .dataframe thead th {\n",
       "        text-align: right;\n",
       "    }\n",
       "</style>\n",
       "<table border=\"1\" class=\"dataframe\">\n",
       "  <thead>\n",
       "    <tr style=\"text-align: right;\">\n",
       "      <th></th>\n",
       "      <th>Apellidos</th>\n",
       "      <th>Nombre</th>\n",
       "      <th>FecNacim</th>\n",
       "      <th>Telf.Movil</th>\n",
       "      <th>Sexo</th>\n",
       "      <th>Email</th>\n",
       "      <th>Edad</th>\n",
       "    </tr>\n",
       "  </thead>\n",
       "  <tbody>\n",
       "    <tr>\n",
       "      <th>4</th>\n",
       "      <td>.</td>\n",
       "      <td>PAVLO</td>\n",
       "      <td>NaT</td>\n",
       "      <td>NaN</td>\n",
       "      <td>NaN</td>\n",
       "      <td>filippskiy03@gmail.com</td>\n",
       "      <td>NaN</td>\n",
       "    </tr>\n",
       "    <tr>\n",
       "      <th>5</th>\n",
       "      <td>ABAD ALVAREZ</td>\n",
       "      <td>MARIA LUZ</td>\n",
       "      <td>1967-12-03</td>\n",
       "      <td>696031962</td>\n",
       "      <td>M</td>\n",
       "      <td>quinoy5@hotmail.com</td>\n",
       "      <td>55.0</td>\n",
       "    </tr>\n",
       "    <tr>\n",
       "      <th>6</th>\n",
       "      <td>ABAD ARMENTIA</td>\n",
       "      <td>KOLDO</td>\n",
       "      <td>1973-05-26</td>\n",
       "      <td>677983353</td>\n",
       "      <td>H</td>\n",
       "      <td>koldo@moyua.com</td>\n",
       "      <td>49.0</td>\n",
       "    </tr>\n",
       "    <tr>\n",
       "      <th>12</th>\n",
       "      <td>ABAD ITURRIARTE</td>\n",
       "      <td>CELINA</td>\n",
       "      <td>1956-03-23</td>\n",
       "      <td>627432645</td>\n",
       "      <td>M</td>\n",
       "      <td>cabad56@gmail.com</td>\n",
       "      <td>66.0</td>\n",
       "    </tr>\n",
       "    <tr>\n",
       "      <th>15</th>\n",
       "      <td>ABADEA BEITIA</td>\n",
       "      <td>ROSA MARÍA</td>\n",
       "      <td>1955-08-03</td>\n",
       "      <td>630566641</td>\n",
       "      <td>M</td>\n",
       "      <td>josemariri@outlook.com</td>\n",
       "      <td>67.0</td>\n",
       "    </tr>\n",
       "  </tbody>\n",
       "</table>\n",
       "</div>"
      ],
      "text/plain": [
       "          Apellidos      Nombre   FecNacim Telf.Movil Sexo  \\\n",
       "4                 .       PAVLO        NaT        NaN  NaN   \n",
       "5      ABAD ALVAREZ   MARIA LUZ 1967-12-03  696031962    M   \n",
       "6     ABAD ARMENTIA       KOLDO 1973-05-26  677983353    H   \n",
       "12  ABAD ITURRIARTE      CELINA 1956-03-23  627432645    M   \n",
       "15    ABADEA BEITIA  ROSA MARÍA 1955-08-03  630566641    M   \n",
       "\n",
       "                     Email  Edad  \n",
       "4   filippskiy03@gmail.com   NaN  \n",
       "5      quinoy5@hotmail.com  55.0  \n",
       "6          koldo@moyua.com  49.0  \n",
       "12       cabad56@gmail.com  66.0  \n",
       "15  josemariri@outlook.com  67.0  "
      ]
     },
     "execution_count": 16,
     "metadata": {},
     "output_type": "execute_result"
    }
   ],
   "source": [
    "ges_email['Edad'] = (pd.Timestamp('now') - ges_email.FecNacim)/pd.Timedelta('1Y')\n",
    "ges_email[\"Edad\"] = round(ges_email['Edad'], 0)\n",
    "\n",
    "ges_email.head()\n",
    "\n",
    "#Añadimos columna edad con edad"
   ]
  },
  {
   "cell_type": "code",
   "execution_count": 84,
   "metadata": {},
   "outputs": [
    {
     "data": {
      "text/plain": [
       "508"
      ]
     },
     "execution_count": 84,
     "metadata": {},
     "output_type": "execute_result"
    }
   ],
   "source": [
    "ges_email.Sexo.isna().sum()"
   ]
  },
  {
   "cell_type": "code",
   "execution_count": 17,
   "metadata": {},
   "outputs": [],
   "source": [
    "# This function converts given date to age\n",
    "# def age(born):\n",
    "#     born = datetime.strptime(born, \"%d/%m/%Y\").date()\n",
    "#     today = date.today()\n",
    "#     return today.year - born.year - ((today.month, \n",
    "#                                       today.day) < (born.month, \n",
    "#                                                     born.day))\n",
    "  \n",
    "# ges_email[\"Edad\"] = ges_email[\"FecNacim\"].apply(age)\n",
    "  \n",
    "# display(ges_email)"
   ]
  },
  {
   "cell_type": "code",
   "execution_count": 18,
   "metadata": {},
   "outputs": [],
   "source": [
    "ges_email_H = ges_email[ges_email[\"Sexo\"]==\"H\"]\n",
    "ges_email_M = ges_email[ges_email[\"Sexo\"]==\"M\"]\n",
    "\n",
    "#Como no sé cómo quitar los NaN de Sexo, cojo M y H por separado y luego los junto con pd.concat"
   ]
  },
  {
   "cell_type": "code",
   "execution_count": 19,
   "metadata": {},
   "outputs": [
    {
     "data": {
      "text/html": [
       "<div>\n",
       "<style scoped>\n",
       "    .dataframe tbody tr th:only-of-type {\n",
       "        vertical-align: middle;\n",
       "    }\n",
       "\n",
       "    .dataframe tbody tr th {\n",
       "        vertical-align: top;\n",
       "    }\n",
       "\n",
       "    .dataframe thead th {\n",
       "        text-align: right;\n",
       "    }\n",
       "</style>\n",
       "<table border=\"1\" class=\"dataframe\">\n",
       "  <thead>\n",
       "    <tr style=\"text-align: right;\">\n",
       "      <th></th>\n",
       "      <th>Apellidos</th>\n",
       "      <th>Nombre</th>\n",
       "      <th>FecNacim</th>\n",
       "      <th>Telf.Movil</th>\n",
       "      <th>Sexo</th>\n",
       "      <th>Email</th>\n",
       "      <th>Edad</th>\n",
       "    </tr>\n",
       "  </thead>\n",
       "  <tbody>\n",
       "    <tr>\n",
       "      <th>6</th>\n",
       "      <td>ABAD ARMENTIA</td>\n",
       "      <td>KOLDO</td>\n",
       "      <td>1973-05-26</td>\n",
       "      <td>677983353</td>\n",
       "      <td>H</td>\n",
       "      <td>koldo@moyua.com</td>\n",
       "      <td>49.0</td>\n",
       "    </tr>\n",
       "    <tr>\n",
       "      <th>23</th>\n",
       "      <td>ABAITUA PEREZ DEL RÍO</td>\n",
       "      <td>DIEGO</td>\n",
       "      <td>1977-03-12</td>\n",
       "      <td>699899529</td>\n",
       "      <td>H</td>\n",
       "      <td>diego@bilaw.es</td>\n",
       "      <td>45.0</td>\n",
       "    </tr>\n",
       "    <tr>\n",
       "      <th>45</th>\n",
       "      <td>ABDELNASER ABDELRAHMAN</td>\n",
       "      <td>AMGAD</td>\n",
       "      <td>1996-01-06</td>\n",
       "      <td>NaN</td>\n",
       "      <td>H</td>\n",
       "      <td>khamiskhamis102@gmail.com</td>\n",
       "      <td>27.0</td>\n",
       "    </tr>\n",
       "    <tr>\n",
       "      <th>66</th>\n",
       "      <td>ACASUSO LOPEZ</td>\n",
       "      <td>IGNACIO</td>\n",
       "      <td>1967-09-01</td>\n",
       "      <td>699426885</td>\n",
       "      <td>H</td>\n",
       "      <td>ignacio.acasuso@ehu.es</td>\n",
       "      <td>55.0</td>\n",
       "    </tr>\n",
       "    <tr>\n",
       "      <th>77</th>\n",
       "      <td>ACEVEDO PAULOGORRAN</td>\n",
       "      <td>ADUR</td>\n",
       "      <td>2009-02-06</td>\n",
       "      <td>606222752</td>\n",
       "      <td>H</td>\n",
       "      <td>galapaulogorran@hotmail.com</td>\n",
       "      <td>14.0</td>\n",
       "    </tr>\n",
       "    <tr>\n",
       "      <th>...</th>\n",
       "      <td>...</td>\n",
       "      <td>...</td>\n",
       "      <td>...</td>\n",
       "      <td>...</td>\n",
       "      <td>...</td>\n",
       "      <td>...</td>\n",
       "      <td>...</td>\n",
       "    </tr>\n",
       "    <tr>\n",
       "      <th>14307</th>\n",
       "      <td>ZORRILLA SANCHEZ</td>\n",
       "      <td>JOSE IGNACIO</td>\n",
       "      <td>1958-11-11</td>\n",
       "      <td>690695955</td>\n",
       "      <td>H</td>\n",
       "      <td>inaki.zorrilla@bizkaia.net</td>\n",
       "      <td>64.0</td>\n",
       "    </tr>\n",
       "    <tr>\n",
       "      <th>14329</th>\n",
       "      <td>ZUBERO AZKUENAGA</td>\n",
       "      <td>IBAI</td>\n",
       "      <td>1986-11-25</td>\n",
       "      <td>688610223</td>\n",
       "      <td>H</td>\n",
       "      <td>ibaizubero@hotmail.com</td>\n",
       "      <td>36.0</td>\n",
       "    </tr>\n",
       "    <tr>\n",
       "      <th>14332</th>\n",
       "      <td>ZUBIAGA RODRIGUEZ</td>\n",
       "      <td>ENRIQUE</td>\n",
       "      <td>1957-04-26</td>\n",
       "      <td>627919037</td>\n",
       "      <td>H</td>\n",
       "      <td>ei.zubiaga@bbva.com</td>\n",
       "      <td>65.0</td>\n",
       "    </tr>\n",
       "    <tr>\n",
       "      <th>14334</th>\n",
       "      <td>ZUBIAGA RONCERO</td>\n",
       "      <td>GUILLERMO</td>\n",
       "      <td>1990-09-11</td>\n",
       "      <td>647186154</td>\n",
       "      <td>H</td>\n",
       "      <td>gezubiaga@gmail.com</td>\n",
       "      <td>32.0</td>\n",
       "    </tr>\n",
       "    <tr>\n",
       "      <th>14366</th>\n",
       "      <td>ZULUAGA GRANEL</td>\n",
       "      <td>ANTON</td>\n",
       "      <td>1981-06-13</td>\n",
       "      <td>656769238</td>\n",
       "      <td>H</td>\n",
       "      <td>antonzg@hotmail.com</td>\n",
       "      <td>41.0</td>\n",
       "    </tr>\n",
       "  </tbody>\n",
       "</table>\n",
       "<p>1092 rows × 7 columns</p>\n",
       "</div>"
      ],
      "text/plain": [
       "                    Apellidos        Nombre   FecNacim Telf.Movil Sexo  \\\n",
       "6               ABAD ARMENTIA         KOLDO 1973-05-26  677983353    H   \n",
       "23      ABAITUA PEREZ DEL RÍO         DIEGO 1977-03-12  699899529    H   \n",
       "45     ABDELNASER ABDELRAHMAN         AMGAD 1996-01-06        NaN    H   \n",
       "66              ACASUSO LOPEZ       IGNACIO 1967-09-01  699426885    H   \n",
       "77        ACEVEDO PAULOGORRAN          ADUR 2009-02-06  606222752    H   \n",
       "...                       ...           ...        ...        ...  ...   \n",
       "14307        ZORRILLA SANCHEZ  JOSE IGNACIO 1958-11-11  690695955    H   \n",
       "14329        ZUBERO AZKUENAGA          IBAI 1986-11-25  688610223    H   \n",
       "14332       ZUBIAGA RODRIGUEZ       ENRIQUE 1957-04-26  627919037    H   \n",
       "14334         ZUBIAGA RONCERO     GUILLERMO 1990-09-11  647186154    H   \n",
       "14366          ZULUAGA GRANEL         ANTON 1981-06-13  656769238    H   \n",
       "\n",
       "                             Email  Edad  \n",
       "6                  koldo@moyua.com  49.0  \n",
       "23                  diego@bilaw.es  45.0  \n",
       "45       khamiskhamis102@gmail.com  27.0  \n",
       "66          ignacio.acasuso@ehu.es  55.0  \n",
       "77     galapaulogorran@hotmail.com  14.0  \n",
       "...                            ...   ...  \n",
       "14307   inaki.zorrilla@bizkaia.net  64.0  \n",
       "14329       ibaizubero@hotmail.com  36.0  \n",
       "14332          ei.zubiaga@bbva.com  65.0  \n",
       "14334          gezubiaga@gmail.com  32.0  \n",
       "14366          antonzg@hotmail.com  41.0  \n",
       "\n",
       "[1092 rows x 7 columns]"
      ]
     },
     "execution_count": 19,
     "metadata": {},
     "output_type": "execute_result"
    }
   ],
   "source": [
    "ges_email_H"
   ]
  },
  {
   "cell_type": "code",
   "execution_count": 85,
   "metadata": {},
   "outputs": [
    {
     "data": {
      "text/html": [
       "<div>\n",
       "<style scoped>\n",
       "    .dataframe tbody tr th:only-of-type {\n",
       "        vertical-align: middle;\n",
       "    }\n",
       "\n",
       "    .dataframe tbody tr th {\n",
       "        vertical-align: top;\n",
       "    }\n",
       "\n",
       "    .dataframe thead th {\n",
       "        text-align: right;\n",
       "    }\n",
       "</style>\n",
       "<table border=\"1\" class=\"dataframe\">\n",
       "  <thead>\n",
       "    <tr style=\"text-align: right;\">\n",
       "      <th></th>\n",
       "      <th>Apellidos</th>\n",
       "      <th>Nombre</th>\n",
       "      <th>FecNacim</th>\n",
       "      <th>Telf.Movil</th>\n",
       "      <th>Sexo</th>\n",
       "      <th>Email</th>\n",
       "      <th>Edad</th>\n",
       "    </tr>\n",
       "  </thead>\n",
       "  <tbody>\n",
       "    <tr>\n",
       "      <th>5</th>\n",
       "      <td>ABAD ALVAREZ</td>\n",
       "      <td>MARIA LUZ</td>\n",
       "      <td>1967-12-03</td>\n",
       "      <td>696031962</td>\n",
       "      <td>M</td>\n",
       "      <td>quinoy5@hotmail.com</td>\n",
       "      <td>55.0</td>\n",
       "    </tr>\n",
       "    <tr>\n",
       "      <th>12</th>\n",
       "      <td>ABAD ITURRIARTE</td>\n",
       "      <td>CELINA</td>\n",
       "      <td>1956-03-23</td>\n",
       "      <td>627432645</td>\n",
       "      <td>M</td>\n",
       "      <td>cabad56@gmail.com</td>\n",
       "      <td>66.0</td>\n",
       "    </tr>\n",
       "    <tr>\n",
       "      <th>15</th>\n",
       "      <td>ABADEA BEITIA</td>\n",
       "      <td>ROSA MARÍA</td>\n",
       "      <td>1955-08-03</td>\n",
       "      <td>630566641</td>\n",
       "      <td>M</td>\n",
       "      <td>josemariri@outlook.com</td>\n",
       "      <td>67.0</td>\n",
       "    </tr>\n",
       "    <tr>\n",
       "      <th>29</th>\n",
       "      <td>ABALOS CUICA</td>\n",
       "      <td>NORMA</td>\n",
       "      <td>1960-04-03</td>\n",
       "      <td>639673112</td>\n",
       "      <td>M</td>\n",
       "      <td>normanavales@gmail.com</td>\n",
       "      <td>62.0</td>\n",
       "    </tr>\n",
       "    <tr>\n",
       "      <th>30</th>\n",
       "      <td>ABAROA DOMINGUEZ</td>\n",
       "      <td>ANA</td>\n",
       "      <td>1968-04-18</td>\n",
       "      <td>677831188</td>\n",
       "      <td>M</td>\n",
       "      <td>ana.abaroa@gmail.com</td>\n",
       "      <td>54.0</td>\n",
       "    </tr>\n",
       "    <tr>\n",
       "      <th>...</th>\n",
       "      <td>...</td>\n",
       "      <td>...</td>\n",
       "      <td>...</td>\n",
       "      <td>...</td>\n",
       "      <td>...</td>\n",
       "      <td>...</td>\n",
       "      <td>...</td>\n",
       "    </tr>\n",
       "    <tr>\n",
       "      <th>14354</th>\n",
       "      <td>ZUDAIRE ARANGUREN</td>\n",
       "      <td>LARA</td>\n",
       "      <td>1992-07-28</td>\n",
       "      <td>685330970</td>\n",
       "      <td>M</td>\n",
       "      <td>larazuar@gmail.com</td>\n",
       "      <td>30.0</td>\n",
       "    </tr>\n",
       "    <tr>\n",
       "      <th>14357</th>\n",
       "      <td>ZUFIA URIARTE</td>\n",
       "      <td>LUCIA</td>\n",
       "      <td>1964-12-21</td>\n",
       "      <td>620920722</td>\n",
       "      <td>M</td>\n",
       "      <td>lucia.lamincer@gmail.com</td>\n",
       "      <td>58.0</td>\n",
       "    </tr>\n",
       "    <tr>\n",
       "      <th>14362</th>\n",
       "      <td>ZULAIKA PORTILLO</td>\n",
       "      <td>ARITOKIETA</td>\n",
       "      <td>1982-10-21</td>\n",
       "      <td>652764614</td>\n",
       "      <td>M</td>\n",
       "      <td>zulaikarritxu@hotmail.com</td>\n",
       "      <td>40.0</td>\n",
       "    </tr>\n",
       "    <tr>\n",
       "      <th>14367</th>\n",
       "      <td>ZULUAGA GRANEL</td>\n",
       "      <td>SUSANA</td>\n",
       "      <td>1984-02-25</td>\n",
       "      <td>NaN</td>\n",
       "      <td>M</td>\n",
       "      <td>susanazg@hotmail.com</td>\n",
       "      <td>38.0</td>\n",
       "    </tr>\n",
       "    <tr>\n",
       "      <th>14375</th>\n",
       "      <td>ZURINAGA SANTAMARIA</td>\n",
       "      <td>VERONICA</td>\n",
       "      <td>1993-12-29</td>\n",
       "      <td>620966045</td>\n",
       "      <td>M</td>\n",
       "      <td>veroniazurinaga@gmail.com</td>\n",
       "      <td>29.0</td>\n",
       "    </tr>\n",
       "  </tbody>\n",
       "</table>\n",
       "<p>1579 rows × 7 columns</p>\n",
       "</div>"
      ],
      "text/plain": [
       "                 Apellidos      Nombre   FecNacim Telf.Movil Sexo  \\\n",
       "5             ABAD ALVAREZ   MARIA LUZ 1967-12-03  696031962    M   \n",
       "12         ABAD ITURRIARTE      CELINA 1956-03-23  627432645    M   \n",
       "15           ABADEA BEITIA  ROSA MARÍA 1955-08-03  630566641    M   \n",
       "29            ABALOS CUICA       NORMA 1960-04-03  639673112    M   \n",
       "30        ABAROA DOMINGUEZ         ANA 1968-04-18  677831188    M   \n",
       "...                    ...         ...        ...        ...  ...   \n",
       "14354    ZUDAIRE ARANGUREN        LARA 1992-07-28  685330970    M   \n",
       "14357        ZUFIA URIARTE       LUCIA 1964-12-21  620920722    M   \n",
       "14362     ZULAIKA PORTILLO  ARITOKIETA 1982-10-21  652764614    M   \n",
       "14367       ZULUAGA GRANEL      SUSANA 1984-02-25        NaN    M   \n",
       "14375  ZURINAGA SANTAMARIA    VERONICA 1993-12-29  620966045    M   \n",
       "\n",
       "                           Email  Edad  \n",
       "5            quinoy5@hotmail.com  55.0  \n",
       "12             cabad56@gmail.com  66.0  \n",
       "15        josemariri@outlook.com  67.0  \n",
       "29        normanavales@gmail.com  62.0  \n",
       "30          ana.abaroa@gmail.com  54.0  \n",
       "...                          ...   ...  \n",
       "14354         larazuar@gmail.com  30.0  \n",
       "14357   lucia.lamincer@gmail.com  58.0  \n",
       "14362  zulaikarritxu@hotmail.com  40.0  \n",
       "14367       susanazg@hotmail.com  38.0  \n",
       "14375  veroniazurinaga@gmail.com  29.0  \n",
       "\n",
       "[1579 rows x 7 columns]"
      ]
     },
     "execution_count": 85,
     "metadata": {},
     "output_type": "execute_result"
    }
   ],
   "source": [
    "ges_email_M"
   ]
  },
  {
   "cell_type": "code",
   "execution_count": 20,
   "metadata": {},
   "outputs": [],
   "source": [
    "tablas = [ges_email_M, ges_email_H]\n",
    "\n",
    "ges_limpio = pd.concat(tablas)"
   ]
  },
  {
   "cell_type": "code",
   "execution_count": 21,
   "metadata": {},
   "outputs": [
    {
     "data": {
      "text/html": [
       "<div>\n",
       "<style scoped>\n",
       "    .dataframe tbody tr th:only-of-type {\n",
       "        vertical-align: middle;\n",
       "    }\n",
       "\n",
       "    .dataframe tbody tr th {\n",
       "        vertical-align: top;\n",
       "    }\n",
       "\n",
       "    .dataframe thead th {\n",
       "        text-align: right;\n",
       "    }\n",
       "</style>\n",
       "<table border=\"1\" class=\"dataframe\">\n",
       "  <thead>\n",
       "    <tr style=\"text-align: right;\">\n",
       "      <th></th>\n",
       "      <th>Apellidos</th>\n",
       "      <th>Nombre</th>\n",
       "      <th>FecNacim</th>\n",
       "      <th>Telf.Movil</th>\n",
       "      <th>Sexo</th>\n",
       "      <th>Email</th>\n",
       "      <th>Edad</th>\n",
       "    </tr>\n",
       "  </thead>\n",
       "  <tbody>\n",
       "    <tr>\n",
       "      <th>5</th>\n",
       "      <td>ABAD ALVAREZ</td>\n",
       "      <td>MARIA LUZ</td>\n",
       "      <td>1967-12-03</td>\n",
       "      <td>696031962</td>\n",
       "      <td>M</td>\n",
       "      <td>quinoy5@hotmail.com</td>\n",
       "      <td>55.0</td>\n",
       "    </tr>\n",
       "    <tr>\n",
       "      <th>12</th>\n",
       "      <td>ABAD ITURRIARTE</td>\n",
       "      <td>CELINA</td>\n",
       "      <td>1956-03-23</td>\n",
       "      <td>627432645</td>\n",
       "      <td>M</td>\n",
       "      <td>cabad56@gmail.com</td>\n",
       "      <td>66.0</td>\n",
       "    </tr>\n",
       "    <tr>\n",
       "      <th>15</th>\n",
       "      <td>ABADEA BEITIA</td>\n",
       "      <td>ROSA MARÍA</td>\n",
       "      <td>1955-08-03</td>\n",
       "      <td>630566641</td>\n",
       "      <td>M</td>\n",
       "      <td>josemariri@outlook.com</td>\n",
       "      <td>67.0</td>\n",
       "    </tr>\n",
       "    <tr>\n",
       "      <th>29</th>\n",
       "      <td>ABALOS CUICA</td>\n",
       "      <td>NORMA</td>\n",
       "      <td>1960-04-03</td>\n",
       "      <td>639673112</td>\n",
       "      <td>M</td>\n",
       "      <td>normanavales@gmail.com</td>\n",
       "      <td>62.0</td>\n",
       "    </tr>\n",
       "    <tr>\n",
       "      <th>30</th>\n",
       "      <td>ABAROA DOMINGUEZ</td>\n",
       "      <td>ANA</td>\n",
       "      <td>1968-04-18</td>\n",
       "      <td>677831188</td>\n",
       "      <td>M</td>\n",
       "      <td>ana.abaroa@gmail.com</td>\n",
       "      <td>54.0</td>\n",
       "    </tr>\n",
       "  </tbody>\n",
       "</table>\n",
       "</div>"
      ],
      "text/plain": [
       "           Apellidos      Nombre   FecNacim Telf.Movil Sexo  \\\n",
       "5       ABAD ALVAREZ   MARIA LUZ 1967-12-03  696031962    M   \n",
       "12   ABAD ITURRIARTE      CELINA 1956-03-23  627432645    M   \n",
       "15     ABADEA BEITIA  ROSA MARÍA 1955-08-03  630566641    M   \n",
       "29      ABALOS CUICA       NORMA 1960-04-03  639673112    M   \n",
       "30  ABAROA DOMINGUEZ         ANA 1968-04-18  677831188    M   \n",
       "\n",
       "                     Email  Edad  \n",
       "5      quinoy5@hotmail.com  55.0  \n",
       "12       cabad56@gmail.com  66.0  \n",
       "15  josemariri@outlook.com  67.0  \n",
       "29  normanavales@gmail.com  62.0  \n",
       "30    ana.abaroa@gmail.com  54.0  "
      ]
     },
     "execution_count": 21,
     "metadata": {},
     "output_type": "execute_result"
    }
   ],
   "source": [
    "ges_limpio.head()"
   ]
  },
  {
   "cell_type": "code",
   "execution_count": 22,
   "metadata": {},
   "outputs": [
    {
     "name": "stdout",
     "output_type": "stream",
     "text": [
      "<class 'pandas.core.frame.DataFrame'>\n",
      "Int64Index: 2671 entries, 5 to 14366\n",
      "Data columns (total 7 columns):\n",
      " #   Column      Non-Null Count  Dtype         \n",
      "---  ------      --------------  -----         \n",
      " 0   Apellidos   2671 non-null   object        \n",
      " 1   Nombre      2671 non-null   object        \n",
      " 2   FecNacim    2665 non-null   datetime64[ns]\n",
      " 3   Telf.Movil  2585 non-null   object        \n",
      " 4   Sexo        2671 non-null   object        \n",
      " 5   Email       2671 non-null   object        \n",
      " 6   Edad        2665 non-null   float64       \n",
      "dtypes: datetime64[ns](1), float64(1), object(5)\n",
      "memory usage: 166.9+ KB\n"
     ]
    }
   ],
   "source": [
    "ges_limpio.info()"
   ]
  },
  {
   "cell_type": "code",
   "execution_count": 23,
   "metadata": {},
   "outputs": [
    {
     "data": {
      "text/plain": [
       "2671"
      ]
     },
     "execution_count": 23,
     "metadata": {},
     "output_type": "execute_result"
    }
   ],
   "source": [
    "len(ges_limpio)"
   ]
  },
  {
   "cell_type": "code",
   "execution_count": 24,
   "metadata": {},
   "outputs": [],
   "source": [
    "ges_limpio[\"Sexo\"] = ges_limpio[\"Sexo\"].apply(lambda x: 1 if x == \"H\" else 0)"
   ]
  },
  {
   "cell_type": "code",
   "execution_count": 25,
   "metadata": {},
   "outputs": [],
   "source": [
    "ges_limpio.to_csv('Gesden_limpio_email_MH.csv')"
   ]
  },
  {
   "cell_type": "code",
   "execution_count": 26,
   "metadata": {},
   "outputs": [
    {
     "data": {
      "text/html": [
       "<div>\n",
       "<style scoped>\n",
       "    .dataframe tbody tr th:only-of-type {\n",
       "        vertical-align: middle;\n",
       "    }\n",
       "\n",
       "    .dataframe tbody tr th {\n",
       "        vertical-align: top;\n",
       "    }\n",
       "\n",
       "    .dataframe thead th {\n",
       "        text-align: right;\n",
       "    }\n",
       "</style>\n",
       "<table border=\"1\" class=\"dataframe\">\n",
       "  <thead>\n",
       "    <tr style=\"text-align: right;\">\n",
       "      <th></th>\n",
       "      <th>Sexo</th>\n",
       "      <th>Edad</th>\n",
       "    </tr>\n",
       "  </thead>\n",
       "  <tbody>\n",
       "    <tr>\n",
       "      <th>count</th>\n",
       "      <td>2671.000000</td>\n",
       "      <td>2665.000000</td>\n",
       "    </tr>\n",
       "    <tr>\n",
       "      <th>mean</th>\n",
       "      <td>0.408836</td>\n",
       "      <td>49.185741</td>\n",
       "    </tr>\n",
       "    <tr>\n",
       "      <th>std</th>\n",
       "      <td>0.491711</td>\n",
       "      <td>15.194251</td>\n",
       "    </tr>\n",
       "    <tr>\n",
       "      <th>min</th>\n",
       "      <td>0.000000</td>\n",
       "      <td>6.000000</td>\n",
       "    </tr>\n",
       "    <tr>\n",
       "      <th>25%</th>\n",
       "      <td>0.000000</td>\n",
       "      <td>38.000000</td>\n",
       "    </tr>\n",
       "    <tr>\n",
       "      <th>50%</th>\n",
       "      <td>0.000000</td>\n",
       "      <td>49.000000</td>\n",
       "    </tr>\n",
       "    <tr>\n",
       "      <th>75%</th>\n",
       "      <td>1.000000</td>\n",
       "      <td>61.000000</td>\n",
       "    </tr>\n",
       "    <tr>\n",
       "      <th>max</th>\n",
       "      <td>1.000000</td>\n",
       "      <td>99.000000</td>\n",
       "    </tr>\n",
       "  </tbody>\n",
       "</table>\n",
       "</div>"
      ],
      "text/plain": [
       "              Sexo         Edad\n",
       "count  2671.000000  2665.000000\n",
       "mean      0.408836    49.185741\n",
       "std       0.491711    15.194251\n",
       "min       0.000000     6.000000\n",
       "25%       0.000000    38.000000\n",
       "50%       0.000000    49.000000\n",
       "75%       1.000000    61.000000\n",
       "max       1.000000    99.000000"
      ]
     },
     "execution_count": 26,
     "metadata": {},
     "output_type": "execute_result"
    }
   ],
   "source": [
    "ges_limpio.describe()"
   ]
  },
  {
   "cell_type": "code",
   "execution_count": 27,
   "metadata": {},
   "outputs": [
    {
     "data": {
      "text/plain": [
       "<AxesSubplot:>"
      ]
     },
     "execution_count": 27,
     "metadata": {},
     "output_type": "execute_result"
    },
    {
     "data": {
      "image/png": "[encoded data removed]",
      "text/plain": [
       "<Figure size 432x288 with 1 Axes>"
      ]
     },
     "metadata": {
      "needs_background": "light"
     },
     "output_type": "display_data"
    }
   ],
   "source": [
    "sns.heatmap(ges_limpio.isnull(), yticklabels=False, cbar=False, cmap = \"Blues\") # le pedimos a sns que nos dibuje un mapa de calor,\n",
    "#indicando si es null o no el dato de cada columna y fila, con yticklabels false dejamos de poner el texto en el eje Y y con\n",
    "# cbar false dejamos de poner la barra medidora"
   ]
  },
  {
   "cell_type": "code",
   "execution_count": 28,
   "metadata": {},
   "outputs": [
    {
     "data": {
      "text/plain": [
       "array([[<AxesSubplot:title={'center':'FecNacim'}>,\n",
       "        <AxesSubplot:title={'center':'Sexo'}>],\n",
       "       [<AxesSubplot:title={'center':'Edad'}>, <AxesSubplot:>]],\n",
       "      dtype=object)"
      ]
     },
     "execution_count": 28,
     "metadata": {},
     "output_type": "execute_result"
    },
    {
     "data": {
      "image/png": "[encoded data removed]",
      "text/plain": [
       "<Figure size 720x720 with 4 Axes>"
      ]
     },
     "metadata": {
      "needs_background": "light"
     },
     "output_type": "display_data"
    }
   ],
   "source": [
    "ges_limpio.hist(bins=30, figsize=(10,10), color=\"r\")"
   ]
  }
 ],
 "metadata": {
  "kernelspec": {
   "display_name": "Python 3.8.3 64-bit",
   "language": "python",
   "name": "python3"
  },
  "language_info": {
   "codemirror_mode": {
    "name": "ipython",
    "version": 3
   },
   "file_extension": ".py",
   "mimetype": "text/x-python",
   "name": "python",
   "nbconvert_exporter": "python",
   "pygments_lexer": "ipython3",
   "version": "3.8.3"
  },
  "orig_nbformat": 4,
  "vscode": {
   "interpreter": {
    "hash": "df13bd791eb3eb6b802aafa7e29e7ec83141c5890de5dfb52479ad9d21a28377"
   }
  }
 },
 "nbformat": 4,
 "nbformat_minor": 2
}
